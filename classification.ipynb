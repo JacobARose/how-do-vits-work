{
 "cells": [
  {
   "cell_type": "markdown",
   "metadata": {},
   "source": [
    "# Classification on CIFAR and ImageNet"
   ]
  },
  {
   "cell_type": "code",
   "execution_count": 3,
   "metadata": {},
   "outputs": [],
   "source": [
    "%load_ext autoreload\n",
    "%autoreload 2\n",
    "\n",
    "import sys\n",
    "\n",
    "# check whether run in Colab\n",
    "root = \".\"\n",
    "if \"google.colab\" in sys.modules:\n",
    "    print(\"Running in Colab.\")\n",
    "    !pip3 install matplotlib\n",
    "    !pip3 install einops==0.3.0\n",
    "    !pip3 install timm==0.4.9\n",
    "    !git clone -b transformer git@github.com:JacobARose/how-do-vits-work.git\n",
    "    root = \"./how-do-vits-work\"\n",
    "    sys.path.append(root)"
   ]
  },
  {
   "cell_type": "code",
   "execution_count": 4,
   "metadata": {},
   "outputs": [],
   "source": [
    "import os\n",
    "import time\n",
    "import yaml\n",
    "import copy\n",
    "from pathlib import Path\n",
    "import datetime\n",
    "\n",
    "import torch\n",
    "import torch.nn as nn\n",
    "from torch.utils.data import DataLoader\n",
    "from torch.utils.tensorboard import SummaryWriter\n",
    "\n",
    "import models\n",
    "import ops.trains as trains\n",
    "import ops.tests as tests\n",
    "import ops.datasets as datasets\n",
    "import ops.schedulers as schedulers"
   ]
  },
  {
   "cell_type": "code",
   "execution_count": 5,
   "metadata": {},
   "outputs": [
    {
     "name": "stdout",
     "output_type": "stream",
     "text": [
      "{'dataset': {'name': 'cifar100', 'root': '../data', 'mean': [0.5071, 0.4867, 0.4408], 'std': [0.2675, 0.2565, 0.2761], 'padding': 4, 'color_jitter': 0.0, 'auto_augment': 'rand-m9-n2-mstd1.0', 're_prob': 0.0}, 'train': {'warmup_epochs': 5, 'epochs': 300, 'batch_size': 96, 'max_norm': 5, 'smoothing': 0.1, 'mixup': {'num_classes': 100, 'mixup_alpha': 1.0, 'cutmix_alpha': 0.8, 'prob': 1.0}}, 'val': {'batch_size': 256, 'n_ff': 1}, 'model': {'stem': False, 'block': {'image_size': 32, 'patch_size': 2, 'sd': 0.1}}, 'optim': {'name': 'AdamW', 'lr': 0.000125, 'weight_decay': 0.05, 'scheduler': {'name': 'CosineAnnealingLR', 'T_max': 300, 'eta_min': 0}}, 'env': {}}\n"
     ]
    },
    {
     "name": "stderr",
     "output_type": "stream",
     "text": [
      "/tmp/ipykernel_3748349/3079580007.py:6: YAMLLoadWarning: calling yaml.load() without Loader=... is deprecated, as the default Loader is unsafe. Please read https://msg.pyyaml.org/load for full details.\n",
      "  args = yaml.load(f)\n"
     ]
    }
   ],
   "source": [
    "# config_path = \"%s/configs/cifar10_vit.yaml\" % root\n",
    "config_path = \"%s/configs/cifar100_vit.yaml\" % root\n",
    "# config_path = \"%s/configs/imagenet_vit.yaml\" % root\n",
    "\n",
    "with open(config_path) as f:\n",
    "    args = yaml.load(f)\n",
    "    print(args)"
   ]
  },
  {
   "cell_type": "code",
   "execution_count": 6,
   "metadata": {},
   "outputs": [],
   "source": [
    "dataset_args = copy.deepcopy(args).get(\"dataset\")\n",
    "train_args = copy.deepcopy(args).get(\"train\")\n",
    "val_args = copy.deepcopy(args).get(\"val\")\n",
    "model_args = copy.deepcopy(args).get(\"model\")\n",
    "optim_args = copy.deepcopy(args).get(\"optim\")\n",
    "env_args = copy.deepcopy(args).get(\"env\")"
   ]
  },
  {
   "cell_type": "code",
   "execution_count": 7,
   "metadata": {},
   "outputs": [
    {
     "name": "stdout",
     "output_type": "stream",
     "text": [
      "Downloading https://www.cs.toronto.edu/~kriz/cifar-100-python.tar.gz to ../data/cifar-100-python.tar.gz\n"
     ]
    },
    {
     "data": {
      "application/vnd.jupyter.widget-view+json": {
       "model_id": "7cec0485a8f745e384abe50d9f773f88",
       "version_major": 2,
       "version_minor": 0
      },
      "text/plain": [
       "  0%|          | 0/169001437 [00:00<?, ?it/s]"
      ]
     },
     "metadata": {},
     "output_type": "display_data"
    },
    {
     "name": "stdout",
     "output_type": "stream",
     "text": [
      "Extracting ../data/cifar-100-python.tar.gz to ../data\n",
      "Files already downloaded and verified\n",
      "Train: 50000, Test: 10000, Classes: 100\n"
     ]
    }
   ],
   "source": [
    "dataset_train, dataset_test = datasets.get_dataset(**dataset_args, download=True)\n",
    "dataset_name = dataset_args[\"name\"]\n",
    "num_classes = len(dataset_train.classes)\n",
    "\n",
    "dataset_train = DataLoader(dataset_train, \n",
    "                           shuffle=True, \n",
    "                           num_workers=train_args.get(\"num_workers\", 4), \n",
    "                           batch_size=train_args.get(\"batch_size\", 128))\n",
    "dataset_test = DataLoader(dataset_test, \n",
    "                          num_workers=val_args.get(\"num_workers\", 4), \n",
    "                          batch_size=val_args.get(\"batch_size\", 128))\n",
    "\n",
    "print(\"Train: %s, Test: %s, Classes: %s\" % (\n",
    "    len(dataset_train.dataset), \n",
    "    len(dataset_test.dataset), \n",
    "    num_classes\n",
    "))"
   ]
  },
  {
   "cell_type": "markdown",
   "metadata": {},
   "source": [
    "## Model"
   ]
  },
  {
   "cell_type": "markdown",
   "metadata": {},
   "source": [
    "Use provided models:"
   ]
  },
  {
   "cell_type": "code",
   "execution_count": null,
   "metadata": {},
   "outputs": [],
   "source": [
    "# ResNet\n",
    "# name = \"resnet_dnn_50\"\n",
    "# name = \"resnet_dnn_101\"\n",
    "\n",
    "# ViT\n",
    "name = \"vit_ti\"\n",
    "# name = \"vit_s\"\n",
    "\n",
    "vit_kwargs = {  # for CIFAR\n",
    "    \"image_size\": 32, \n",
    "    \"patch_size\": 2,\n",
    "}\n",
    "\n",
    "model = models.get_model(name, num_classes=num_classes, \n",
    "                         stem=model_args.get(\"stem\", False), **vit_kwargs)\n",
    "# models.load(model, dataset_name, uid=current_time)\n",
    "\n",
    "# Or use `timm`:\n",
    "\n",
    "import timm\n",
    "\n",
    "model = timm.models.vision_transformer.VisionTransformer(\n",
    "    img_size=32, patch_size=2, num_classes=num_classes,  # for CIFAR\n",
    "    embed_dim=192, depth=12, num_heads=3, qkv_bias=False,  # ViT-Ti\n",
    ")\n",
    "model.name = \"vit_ti\"\n",
    "models.stats(model)"
   ]
  },
  {
   "cell_type": "markdown",
   "metadata": {},
   "source": [
    "Parallelize the given `moodel` by splitting the input:"
   ]
  },
  {
   "cell_type": "code",
   "execution_count": 12,
   "metadata": {},
   "outputs": [],
   "source": [
    "name = model.name\n",
    "model = nn.DataParallel(model)\n",
    "model.name = name"
   ]
  },
  {
   "cell_type": "markdown",
   "metadata": {},
   "source": [
    "## Train"
   ]
  },
  {
   "cell_type": "markdown",
   "metadata": {},
   "source": [
    "Define a TensorBoard writer:"
   ]
  },
  {
   "cell_type": "code",
   "execution_count": 13,
   "metadata": {},
   "outputs": [
    {
     "name": "stdout",
     "output_type": "stream",
     "text": [
      "Create TensorBoard log dir:  runs/cifar100/vit_ti/20220516_062744\n"
     ]
    }
   ],
   "source": [
    "current_time = datetime.datetime.now().strftime(\"%Y%m%d_%H%M%S\")\n",
    "log_dir = os.path.join(\"runs\", dataset_name, model.name, current_time)\n",
    "writer = SummaryWriter(log_dir)\n",
    "\n",
    "with open(\"%s/config.yaml\" % log_dir, \"w\") as f:\n",
    "    yaml.dump(args, f)\n",
    "with open(\"%s/model.log\" % log_dir, \"w\") as f:\n",
    "    f.write(repr(model))\n",
    "\n",
    "print(\"Create TensorBoard log dir: \", log_dir)"
   ]
  },
  {
   "cell_type": "markdown",
   "metadata": {},
   "source": [
    "Train the model:"
   ]
  },
  {
   "cell_type": "code",
   "execution_count": null,
   "metadata": {
    "scrolled": true,
    "tags": []
   },
   "outputs": [
    {
     "name": "stdout",
     "output_type": "stream",
     "text": [
      "NLL: 2.1916, Cutoffs: 0.0 %, 90.0 %, Accs: 47.660 %, 100.000 %, Uncs: 0.000 %, 100.000 %, IoUs: 31.472 %, 100.000 %, Freqs: 100.000 %, 0.190 %, Top-5: 78.010 %, Brier: 0.704, ECE: 18.315 %, ECE±: -18.315 %\n"
     ]
    },
    {
     "data": {
      "application/vnd.jupyter.widget-view+json": {
       "model_id": "8c0cfd2f534d4f6ab50cb298e7566b22",
       "version_major": 2,
       "version_minor": 0
      },
      "text/plain": [
       "Batches-per-epoch=521:   0%|          | 0/521 [00:00<?, ?it/s]"
      ]
     },
     "metadata": {},
     "output_type": "display_data"
    },
    {
     "name": "stdout",
     "output_type": "stream",
     "text": [
      "NLL: 2.1385, Cutoffs: 0.0 %, 90.0 %, Accs: 48.650 %, 100.000 %, Uncs: 0.000 %, 100.000 %, IoUs: 31.934 %, 100.000 %, Freqs: 100.000 %, 0.310 %, Top-5: 78.020 %, Brier: 0.690, ECE: 17.515 %, ECE±: -17.515 %\n"
     ]
    },
    {
     "data": {
      "application/vnd.jupyter.widget-view+json": {
       "model_id": "e3e640706b814287ac8a0e4d18a483bd",
       "version_major": 2,
       "version_minor": 0
      },
      "text/plain": [
       "Batches-per-epoch=521:   0%|          | 0/521 [00:00<?, ?it/s]"
      ]
     },
     "metadata": {},
     "output_type": "display_data"
    },
    {
     "name": "stdout",
     "output_type": "stream",
     "text": [
      "NLL: 2.1342, Cutoffs: 0.0 %, 90.0 %, Accs: 49.220 %, 100.000 %, Uncs: 0.000 %, 100.000 %, IoUs: 32.963 %, 100.000 %, Freqs: 100.000 %, 0.170 %, Top-5: 78.330 %, Brier: 0.689, ECE: 18.316 %, ECE±: -18.316 %\n"
     ]
    },
    {
     "data": {
      "application/vnd.jupyter.widget-view+json": {
       "model_id": "9aa98aa6e61f4dccb1d7880fd6f8bb29",
       "version_major": 2,
       "version_minor": 0
      },
      "text/plain": [
       "Batches-per-epoch=521:   0%|          | 0/521 [00:00<?, ?it/s]"
      ]
     },
     "metadata": {},
     "output_type": "display_data"
    },
    {
     "name": "stdout",
     "output_type": "stream",
     "text": [
      "NLL: 2.1113, Cutoffs: 0.0 %, 90.0 %, Accs: 49.420 %, 100.000 %, Uncs: 0.000 %, 100.000 %, IoUs: 33.024 %, 100.000 %, Freqs: 100.000 %, 0.320 %, Top-5: 78.890 %, Brier: 0.684, ECE: 18.127 %, ECE±: -18.127 %\n"
     ]
    },
    {
     "data": {
      "application/vnd.jupyter.widget-view+json": {
       "model_id": "0503d3ddfe1641e9951aea0b115a868d",
       "version_major": 2,
       "version_minor": 0
      },
      "text/plain": [
       "Batches-per-epoch=521:   0%|          | 0/521 [00:00<?, ?it/s]"
      ]
     },
     "metadata": {},
     "output_type": "display_data"
    },
    {
     "name": "stdout",
     "output_type": "stream",
     "text": [
      "NLL: 2.1372, Cutoffs: 0.0 %, 90.0 %, Accs: 49.000 %, 100.000 %, Uncs: 0.000 %, 100.000 %, IoUs: 32.386 %, 100.000 %, Freqs: 100.000 %, 0.340 %, Top-5: 78.460 %, Brier: 0.691, ECE: 18.656 %, ECE±: -18.656 %\n"
     ]
    },
    {
     "data": {
      "application/vnd.jupyter.widget-view+json": {
       "model_id": "258a05c20fcf480489d057020e04a950",
       "version_major": 2,
       "version_minor": 0
      },
      "text/plain": [
       "Batches-per-epoch=521:   0%|          | 0/521 [00:00<?, ?it/s]"
      ]
     },
     "metadata": {},
     "output_type": "display_data"
    },
    {
     "name": "stdout",
     "output_type": "stream",
     "text": [
      "NLL: 2.0454, Cutoffs: 0.0 %, 90.0 %, Accs: 50.700 %, 100.000 %, Uncs: 0.000 %, 100.000 %, IoUs: 34.155 %, 100.000 %, Freqs: 100.000 %, 0.430 %, Top-5: 80.550 %, Brier: 0.669, ECE: 17.819 %, ECE±: -17.819 %\n"
     ]
    },
    {
     "data": {
      "application/vnd.jupyter.widget-view+json": {
       "model_id": "f54cdd4467e44dbea10970bc159f2129",
       "version_major": 2,
       "version_minor": 0
      },
      "text/plain": [
       "Batches-per-epoch=521:   0%|          | 0/521 [00:00<?, ?it/s]"
      ]
     },
     "metadata": {},
     "output_type": "display_data"
    },
    {
     "name": "stdout",
     "output_type": "stream",
     "text": [
      "NLL: 2.0654, Cutoffs: 0.0 %, 90.0 %, Accs: 49.980 %, 100.000 %, Uncs: 0.000 %, 100.000 %, IoUs: 33.475 %, 100.000 %, Freqs: 100.000 %, 0.640 %, Top-5: 79.460 %, Brier: 0.670, ECE: 16.261 %, ECE±: -16.261 %\n"
     ]
    },
    {
     "data": {
      "application/vnd.jupyter.widget-view+json": {
       "model_id": "fdc32759e8c142de866b7c0865e53397",
       "version_major": 2,
       "version_minor": 0
      },
      "text/plain": [
       "Batches-per-epoch=521:   0%|          | 0/521 [00:00<?, ?it/s]"
      ]
     },
     "metadata": {},
     "output_type": "display_data"
    },
    {
     "name": "stdout",
     "output_type": "stream",
     "text": [
      "NLL: 2.0195, Cutoffs: 0.0 %, 90.0 %, Accs: 51.180 %, 100.000 %, Uncs: 0.000 %, 100.000 %, IoUs: 34.718 %, 100.000 %, Freqs: 100.000 %, 0.470 %, Top-5: 80.500 %, Brier: 0.663, ECE: 17.277 %, ECE±: -17.277 %\n"
     ]
    },
    {
     "data": {
      "application/vnd.jupyter.widget-view+json": {
       "model_id": "3924dc52ea7f4450b0caea2695db2616",
       "version_major": 2,
       "version_minor": 0
      },
      "text/plain": [
       "Batches-per-epoch=521:   0%|          | 0/521 [00:00<?, ?it/s]"
      ]
     },
     "metadata": {},
     "output_type": "display_data"
    },
    {
     "name": "stdout",
     "output_type": "stream",
     "text": [
      "NLL: 2.0835, Cutoffs: 0.0 %, 90.0 %, Accs: 50.650 %, 100.000 %, Uncs: 0.000 %, 100.000 %, IoUs: 34.233 %, 100.000 %, Freqs: 100.000 %, 0.290 %, Top-5: 79.640 %, Brier: 0.677, ECE: 19.128 %, ECE±: -19.128 %\n"
     ]
    },
    {
     "data": {
      "application/vnd.jupyter.widget-view+json": {
       "model_id": "e016b6f6af994e69b2b53fcad2a55cd9",
       "version_major": 2,
       "version_minor": 0
      },
      "text/plain": [
       "Batches-per-epoch=521:   0%|          | 0/521 [00:00<?, ?it/s]"
      ]
     },
     "metadata": {},
     "output_type": "display_data"
    },
    {
     "name": "stdout",
     "output_type": "stream",
     "text": [
      "NLL: 2.0270, Cutoffs: 0.0 %, 90.0 %, Accs: 51.580 %, 100.000 %, Uncs: 0.000 %, 100.000 %, IoUs: 35.437 %, 100.000 %, Freqs: 100.000 %, 0.460 %, Top-5: 80.640 %, Brier: 0.661, ECE: 18.797 %, ECE±: -18.797 %\n"
     ]
    },
    {
     "data": {
      "application/vnd.jupyter.widget-view+json": {
       "model_id": "1a12477319574eabac9e0350874b2903",
       "version_major": 2,
       "version_minor": 0
      },
      "text/plain": [
       "Batches-per-epoch=521:   0%|          | 0/521 [00:00<?, ?it/s]"
      ]
     },
     "metadata": {},
     "output_type": "display_data"
    },
    {
     "name": "stdout",
     "output_type": "stream",
     "text": [
      "NLL: 1.9993, Cutoffs: 0.0 %, 90.0 %, Accs: 51.770 %, 100.000 %, Uncs: 0.000 %, 100.000 %, IoUs: 35.219 %, 100.000 %, Freqs: 100.000 %, 0.700 %, Top-5: 80.760 %, Brier: 0.653, ECE: 17.265 %, ECE±: -17.265 %\n"
     ]
    },
    {
     "data": {
      "application/vnd.jupyter.widget-view+json": {
       "model_id": "589a7f6763784e4c9b06e146fdf18d5e",
       "version_major": 2,
       "version_minor": 0
      },
      "text/plain": [
       "Batches-per-epoch=521:   0%|          | 0/521 [00:00<?, ?it/s]"
      ]
     },
     "metadata": {},
     "output_type": "display_data"
    },
    {
     "name": "stdout",
     "output_type": "stream",
     "text": [
      "NLL: 1.9891, Cutoffs: 0.0 %, 90.0 %, Accs: 52.290 %, 100.000 %, Uncs: 0.000 %, 100.000 %, IoUs: 35.857 %, 100.000 %, Freqs: 100.000 %, 0.450 %, Top-5: 81.390 %, Brier: 0.653, ECE: 18.437 %, ECE±: -18.437 %\n"
     ]
    },
    {
     "data": {
      "application/vnd.jupyter.widget-view+json": {
       "model_id": "bb6d9419cf824995aa2d550e98b7013e",
       "version_major": 2,
       "version_minor": 0
      },
      "text/plain": [
       "Batches-per-epoch=521:   0%|          | 0/521 [00:00<?, ?it/s]"
      ]
     },
     "metadata": {},
     "output_type": "display_data"
    },
    {
     "name": "stdout",
     "output_type": "stream",
     "text": [
      "NLL: 1.9894, Cutoffs: 0.0 %, 90.0 %, Accs: 52.000 %, 100.000 %, Uncs: 0.000 %, 100.000 %, IoUs: 35.442 %, 100.000 %, Freqs: 100.000 %, 0.520 %, Top-5: 80.560 %, Brier: 0.650, ECE: 17.265 %, ECE±: -17.265 %\n"
     ]
    },
    {
     "data": {
      "application/vnd.jupyter.widget-view+json": {
       "model_id": "23629c8c313149d4bb87ef0aabadb7a6",
       "version_major": 2,
       "version_minor": 0
      },
      "text/plain": [
       "Batches-per-epoch=521:   0%|          | 0/521 [00:00<?, ?it/s]"
      ]
     },
     "metadata": {},
     "output_type": "display_data"
    },
    {
     "name": "stdout",
     "output_type": "stream",
     "text": [
      "NLL: 1.9812, Cutoffs: 0.0 %, 90.0 %, Accs: 52.760 %, 100.000 %, Uncs: 0.000 %, 100.000 %, IoUs: 36.217 %, 100.000 %, Freqs: 100.000 %, 0.640 %, Top-5: 81.020 %, Brier: 0.649, ECE: 18.277 %, ECE±: -18.277 %\n"
     ]
    },
    {
     "data": {
      "application/vnd.jupyter.widget-view+json": {
       "model_id": "839db65073f344f2a31cae46def6289b",
       "version_major": 2,
       "version_minor": 0
      },
      "text/plain": [
       "Batches-per-epoch=521:   0%|          | 0/521 [00:00<?, ?it/s]"
      ]
     },
     "metadata": {},
     "output_type": "display_data"
    },
    {
     "name": "stdout",
     "output_type": "stream",
     "text": [
      "NLL: 1.9307, Cutoffs: 0.0 %, 90.0 %, Accs: 53.800 %, 100.000 %, Uncs: 0.000 %, 100.000 %, IoUs: 37.129 %, 100.000 %, Freqs: 100.000 %, 0.730 %, Top-5: 81.940 %, Brier: 0.637, ECE: 17.801 %, ECE±: -17.801 %\n"
     ]
    },
    {
     "data": {
      "application/vnd.jupyter.widget-view+json": {
       "model_id": "613158d83b774912b1b44556bd96d48c",
       "version_major": 2,
       "version_minor": 0
      },
      "text/plain": [
       "Batches-per-epoch=521:   0%|          | 0/521 [00:00<?, ?it/s]"
      ]
     },
     "metadata": {},
     "output_type": "display_data"
    },
    {
     "name": "stdout",
     "output_type": "stream",
     "text": [
      "NLL: 1.9048, Cutoffs: 0.0 %, 90.0 %, Accs: 53.980 %, 100.000 %, Uncs: 0.000 %, 100.000 %, IoUs: 37.492 %, 100.000 %, Freqs: 100.000 %, 0.890 %, Top-5: 82.000 %, Brier: 0.628, ECE: 17.347 %, ECE±: -17.347 %\n"
     ]
    },
    {
     "data": {
      "application/vnd.jupyter.widget-view+json": {
       "model_id": "f659295e361d4710ba46d9ae3afd6c61",
       "version_major": 2,
       "version_minor": 0
      },
      "text/plain": [
       "Batches-per-epoch=521:   0%|          | 0/521 [00:00<?, ?it/s]"
      ]
     },
     "metadata": {},
     "output_type": "display_data"
    },
    {
     "name": "stdout",
     "output_type": "stream",
     "text": [
      "NLL: 1.8928, Cutoffs: 0.0 %, 90.0 %, Accs: 54.290 %, 100.000 %, Uncs: 0.000 %, 100.000 %, IoUs: 38.182 %, 100.000 %, Freqs: 100.000 %, 0.610 %, Top-5: 82.620 %, Brier: 0.628, ECE: 17.782 %, ECE±: -17.782 %\n"
     ]
    },
    {
     "data": {
      "application/vnd.jupyter.widget-view+json": {
       "model_id": "01052d5641654fe9b69acb2070726bc5",
       "version_major": 2,
       "version_minor": 0
      },
      "text/plain": [
       "Batches-per-epoch=521:   0%|          | 0/521 [00:00<?, ?it/s]"
      ]
     },
     "metadata": {},
     "output_type": "display_data"
    },
    {
     "name": "stdout",
     "output_type": "stream",
     "text": [
      "NLL: 1.9482, Cutoffs: 0.0 %, 90.0 %, Accs: 54.220 %, 100.000 %, Uncs: 0.000 %, 100.000 %, IoUs: 37.412 %, 100.000 %, Freqs: 100.000 %, 0.660 %, Top-5: 81.470 %, Brier: 0.638, ECE: 19.072 %, ECE±: -19.072 %\n"
     ]
    },
    {
     "data": {
      "application/vnd.jupyter.widget-view+json": {
       "model_id": "2ac37c7f8f9349048342a827863fdb53",
       "version_major": 2,
       "version_minor": 0
      },
      "text/plain": [
       "Batches-per-epoch=521:   0%|          | 0/521 [00:00<?, ?it/s]"
      ]
     },
     "metadata": {},
     "output_type": "display_data"
    },
    {
     "name": "stdout",
     "output_type": "stream",
     "text": [
      "NLL: 1.8847, Cutoffs: 0.0 %, 90.0 %, Accs: 54.760 %, 100.000 %, Uncs: 0.000 %, 100.000 %, IoUs: 38.110 %, 100.000 %, Freqs: 100.000 %, 0.820 %, Top-5: 82.470 %, Brier: 0.622, ECE: 17.502 %, ECE±: -17.502 %\n"
     ]
    },
    {
     "data": {
      "application/vnd.jupyter.widget-view+json": {
       "model_id": "becdb08e6b1e45cb8f3f401b93d76ba5",
       "version_major": 2,
       "version_minor": 0
      },
      "text/plain": [
       "Batches-per-epoch=521:   0%|          | 0/521 [00:00<?, ?it/s]"
      ]
     },
     "metadata": {},
     "output_type": "display_data"
    },
    {
     "name": "stdout",
     "output_type": "stream",
     "text": [
      "NLL: 1.8626, Cutoffs: 0.0 %, 90.0 %, Accs: 55.160 %, 100.000 %, Uncs: 0.000 %, 100.000 %, IoUs: 38.596 %, 100.000 %, Freqs: 100.000 %, 1.190 %, Top-5: 82.530 %, Brier: 0.615, ECE: 16.851 %, ECE±: -16.851 %\n"
     ]
    },
    {
     "data": {
      "application/vnd.jupyter.widget-view+json": {
       "model_id": "4d1f3b478e3645b8975725ad378e6f8c",
       "version_major": 2,
       "version_minor": 0
      },
      "text/plain": [
       "Batches-per-epoch=521:   0%|          | 0/521 [00:00<?, ?it/s]"
      ]
     },
     "metadata": {},
     "output_type": "display_data"
    },
    {
     "name": "stdout",
     "output_type": "stream",
     "text": [
      "NLL: 1.8812, Cutoffs: 0.0 %, 90.0 %, Accs: 54.950 %, 100.000 %, Uncs: 0.000 %, 100.000 %, IoUs: 38.398 %, 100.000 %, Freqs: 100.000 %, 1.110 %, Top-5: 82.600 %, Brier: 0.617, ECE: 17.418 %, ECE±: -17.418 %\n"
     ]
    },
    {
     "data": {
      "application/vnd.jupyter.widget-view+json": {
       "model_id": "486ea0bbd29244f4b9b847b84bb20d75",
       "version_major": 2,
       "version_minor": 0
      },
      "text/plain": [
       "Batches-per-epoch=521:   0%|          | 0/521 [00:00<?, ?it/s]"
      ]
     },
     "metadata": {},
     "output_type": "display_data"
    },
    {
     "name": "stdout",
     "output_type": "stream",
     "text": [
      "NLL: 1.8582, Cutoffs: 0.0 %, 90.0 %, Accs: 55.250 %, 100.000 %, Uncs: 0.000 %, 100.000 %, IoUs: 38.601 %, 100.000 %, Freqs: 100.000 %, 1.290 %, Top-5: 82.740 %, Brier: 0.613, ECE: 16.778 %, ECE±: -16.778 %\n"
     ]
    },
    {
     "data": {
      "application/vnd.jupyter.widget-view+json": {
       "model_id": "dcaad276096f41b4a644c64b0add1bcc",
       "version_major": 2,
       "version_minor": 0
      },
      "text/plain": [
       "Batches-per-epoch=521:   0%|          | 0/521 [00:00<?, ?it/s]"
      ]
     },
     "metadata": {},
     "output_type": "display_data"
    },
    {
     "name": "stdout",
     "output_type": "stream",
     "text": [
      "NLL: 1.8340, Cutoffs: 0.0 %, 90.0 %, Accs: 55.480 %, 100.000 %, Uncs: 0.000 %, 100.000 %, IoUs: 38.768 %, 100.000 %, Freqs: 100.000 %, 1.220 %, Top-5: 83.100 %, Brier: 0.608, ECE: 16.533 %, ECE±: -16.533 %\n"
     ]
    },
    {
     "data": {
      "application/vnd.jupyter.widget-view+json": {
       "model_id": "44ee214044244b6f9b3dc7882d8d1e29",
       "version_major": 2,
       "version_minor": 0
      },
      "text/plain": [
       "Batches-per-epoch=521:   0%|          | 0/521 [00:00<?, ?it/s]"
      ]
     },
     "metadata": {},
     "output_type": "display_data"
    },
    {
     "name": "stdout",
     "output_type": "stream",
     "text": [
      "NLL: 1.8775, Cutoffs: 0.0 %, 90.0 %, Accs: 54.580 %, 100.000 %, Uncs: 0.000 %, 100.000 %, IoUs: 37.886 %, 100.000 %, Freqs: 100.000 %, 1.200 %, Top-5: 82.320 %, Brier: 0.616, ECE: 15.912 %, ECE±: -15.912 %\n"
     ]
    },
    {
     "data": {
      "application/vnd.jupyter.widget-view+json": {
       "model_id": "604b10ca8f5f4f5f906489b2a11e6f00",
       "version_major": 2,
       "version_minor": 0
      },
      "text/plain": [
       "Batches-per-epoch=521:   0%|          | 0/521 [00:00<?, ?it/s]"
      ]
     },
     "metadata": {},
     "output_type": "display_data"
    },
    {
     "name": "stdout",
     "output_type": "stream",
     "text": [
      "NLL: 1.8017, Cutoffs: 0.0 %, 90.0 %, Accs: 56.560 %, 100.000 %, Uncs: 0.000 %, 100.000 %, IoUs: 39.900 %, 100.000 %, Freqs: 100.000 %, 1.240 %, Top-5: 83.650 %, Brier: 0.596, ECE: 16.276 %, ECE±: -16.276 %\n"
     ]
    },
    {
     "data": {
      "application/vnd.jupyter.widget-view+json": {
       "model_id": "7655762b91224feca8e0a6c27af253a2",
       "version_major": 2,
       "version_minor": 0
      },
      "text/plain": [
       "Batches-per-epoch=521:   0%|          | 0/521 [00:00<?, ?it/s]"
      ]
     },
     "metadata": {},
     "output_type": "display_data"
    },
    {
     "name": "stdout",
     "output_type": "stream",
     "text": [
      "NLL: 1.8128, Cutoffs: 0.0 %, 90.0 %, Accs: 56.480 %, 100.000 %, Uncs: 0.000 %, 100.000 %, IoUs: 39.894 %, 100.000 %, Freqs: 100.000 %, 1.380 %, Top-5: 83.200 %, Brier: 0.599, ECE: 16.699 %, ECE±: -16.699 %\n"
     ]
    },
    {
     "data": {
      "application/vnd.jupyter.widget-view+json": {
       "model_id": "803aead7cb0c41efb8975b5f6ec1dfa8",
       "version_major": 2,
       "version_minor": 0
      },
      "text/plain": [
       "Batches-per-epoch=521:   0%|          | 0/521 [00:00<?, ?it/s]"
      ]
     },
     "metadata": {},
     "output_type": "display_data"
    },
    {
     "name": "stdout",
     "output_type": "stream",
     "text": [
      "NLL: 1.8272, Cutoffs: 0.0 %, 90.0 %, Accs: 56.100 %, 100.000 %, Uncs: 0.000 %, 100.000 %, IoUs: 39.343 %, 100.000 %, Freqs: 100.000 %, 1.160 %, Top-5: 83.500 %, Brier: 0.603, ECE: 16.889 %, ECE±: -16.889 %\n"
     ]
    },
    {
     "data": {
      "application/vnd.jupyter.widget-view+json": {
       "model_id": "980302e3f6a24a1981d09c28fe36f505",
       "version_major": 2,
       "version_minor": 0
      },
      "text/plain": [
       "Batches-per-epoch=521:   0%|          | 0/521 [00:00<?, ?it/s]"
      ]
     },
     "metadata": {},
     "output_type": "display_data"
    },
    {
     "name": "stdout",
     "output_type": "stream",
     "text": [
      "NLL: 1.8184, Cutoffs: 0.0 %, 90.0 %, Accs: 56.020 %, 100.000 %, Uncs: 0.000 %, 100.000 %, IoUs: 39.458 %, 100.000 %, Freqs: 100.000 %, 1.060 %, Top-5: 83.570 %, Brier: 0.601, ECE: 16.376 %, ECE±: -16.376 %\n"
     ]
    },
    {
     "data": {
      "application/vnd.jupyter.widget-view+json": {
       "model_id": "d1d1782215db48df95764f3a1f34c445",
       "version_major": 2,
       "version_minor": 0
      },
      "text/plain": [
       "Batches-per-epoch=521:   0%|          | 0/521 [00:00<?, ?it/s]"
      ]
     },
     "metadata": {},
     "output_type": "display_data"
    },
    {
     "name": "stdout",
     "output_type": "stream",
     "text": [
      "NLL: 1.9145, Cutoffs: 0.0 %, 90.0 %, Accs: 54.490 %, 98.750 %, Uncs: 0.000 %, 99.978 %, IoUs: 37.739 %, 96.622 %, Freqs: 100.000 %, 0.800 %, Top-5: 82.130 %, Brier: 0.625, ECE: 17.630 %, ECE±: -17.630 %\n"
     ]
    },
    {
     "data": {
      "application/vnd.jupyter.widget-view+json": {
       "model_id": "8984fd9f18ba452da5974319c7d16fe3",
       "version_major": 2,
       "version_minor": 0
      },
      "text/plain": [
       "Batches-per-epoch=521:   0%|          | 0/521 [00:00<?, ?it/s]"
      ]
     },
     "metadata": {},
     "output_type": "display_data"
    },
    {
     "name": "stdout",
     "output_type": "stream",
     "text": [
      "NLL: 1.7734, Cutoffs: 0.0 %, 90.0 %, Accs: 57.470 %, 98.726 %, Uncs: 0.000 %, 99.953 %, IoUs: 40.884 %, 96.500 %, Freqs: 100.000 %, 1.570 %, Top-5: 84.250 %, Brier: 0.588, ECE: 16.848 %, ECE±: -16.848 %\n"
     ]
    },
    {
     "data": {
      "application/vnd.jupyter.widget-view+json": {
       "model_id": "5acc2261fff7472198d8030392fa392c",
       "version_major": 2,
       "version_minor": 0
      },
      "text/plain": [
       "Batches-per-epoch=521:   0%|          | 0/521 [00:00<?, ?it/s]"
      ]
     },
     "metadata": {},
     "output_type": "display_data"
    },
    {
     "name": "stdout",
     "output_type": "stream",
     "text": [
      "NLL: 1.7626, Cutoffs: 0.0 %, 90.0 %, Accs: 57.400 %, 100.000 %, Uncs: 0.000 %, 100.000 %, IoUs: 40.749 %, 100.000 %, Freqs: 100.000 %, 1.410 %, Top-5: 84.330 %, Brier: 0.585, ECE: 16.025 %, ECE±: -16.025 %\n"
     ]
    },
    {
     "data": {
      "application/vnd.jupyter.widget-view+json": {
       "model_id": "b16c5b4e79cc42c8b2c708babe99abe0",
       "version_major": 2,
       "version_minor": 0
      },
      "text/plain": [
       "Batches-per-epoch=521:   0%|          | 0/521 [00:00<?, ?it/s]"
      ]
     },
     "metadata": {},
     "output_type": "display_data"
    },
    {
     "name": "stdout",
     "output_type": "stream",
     "text": [
      "NLL: 1.7507, Cutoffs: 0.0 %, 90.0 %, Accs: 58.040 %, 100.000 %, Uncs: 0.000 %, 100.000 %, IoUs: 41.377 %, 100.000 %, Freqs: 100.000 %, 1.670 %, Top-5: 84.310 %, Brier: 0.579, ECE: 16.142 %, ECE±: -16.142 %\n"
     ]
    },
    {
     "data": {
      "application/vnd.jupyter.widget-view+json": {
       "model_id": "051ff52b33754b88a72b2f9e59045418",
       "version_major": 2,
       "version_minor": 0
      },
      "text/plain": [
       "Batches-per-epoch=521:   0%|          | 0/521 [00:00<?, ?it/s]"
      ]
     },
     "metadata": {},
     "output_type": "display_data"
    },
    {
     "name": "stdout",
     "output_type": "stream",
     "text": [
      "NLL: 1.7646, Cutoffs: 0.0 %, 90.0 %, Accs: 57.570 %, 100.000 %, Uncs: 0.000 %, 100.000 %, IoUs: 40.823 %, 100.000 %, Freqs: 100.000 %, 1.640 %, Top-5: 84.540 %, Brier: 0.586, ECE: 16.707 %, ECE±: -16.707 %\n"
     ]
    },
    {
     "data": {
      "application/vnd.jupyter.widget-view+json": {
       "model_id": "27ba55a5289e47a5a808b806514e5165",
       "version_major": 2,
       "version_minor": 0
      },
      "text/plain": [
       "Batches-per-epoch=521:   0%|          | 0/521 [00:00<?, ?it/s]"
      ]
     },
     "metadata": {},
     "output_type": "display_data"
    },
    {
     "name": "stdout",
     "output_type": "stream",
     "text": [
      "NLL: 1.7437, Cutoffs: 0.0 %, 90.0 %, Accs: 58.170 %, 99.468 %, Uncs: 0.000 %, 99.976 %, IoUs: 41.633 %, 97.799 %, Freqs: 100.000 %, 1.880 %, Top-5: 84.490 %, Brier: 0.581, ECE: 16.451 %, ECE±: -16.451 %\n"
     ]
    },
    {
     "data": {
      "application/vnd.jupyter.widget-view+json": {
       "model_id": "cd395e01c10a4aa5a729b4271aa8e881",
       "version_major": 2,
       "version_minor": 0
      },
      "text/plain": [
       "Batches-per-epoch=521:   0%|          | 0/521 [00:00<?, ?it/s]"
      ]
     },
     "metadata": {},
     "output_type": "display_data"
    },
    {
     "name": "stdout",
     "output_type": "stream",
     "text": [
      "NLL: 1.7407, Cutoffs: 0.0 %, 90.0 %, Accs: 58.080 %, 98.137 %, Uncs: 0.000 %, 99.928 %, IoUs: 41.485 %, 94.231 %, Freqs: 100.000 %, 1.610 %, Top-5: 84.750 %, Brier: 0.581, ECE: 16.198 %, ECE±: -16.198 %\n"
     ]
    },
    {
     "data": {
      "application/vnd.jupyter.widget-view+json": {
       "model_id": "92cd635a1af641c493ebfbc43c37c09c",
       "version_major": 2,
       "version_minor": 0
      },
      "text/plain": [
       "Batches-per-epoch=521:   0%|          | 0/521 [00:00<?, ?it/s]"
      ]
     },
     "metadata": {},
     "output_type": "display_data"
    },
    {
     "name": "stdout",
     "output_type": "stream",
     "text": [
      "NLL: 1.7110, Cutoffs: 0.0 %, 90.0 %, Accs: 58.610 %, 99.078 %, Uncs: 0.000 %, 99.952 %, IoUs: 42.210 %, 95.848 %, Freqs: 100.000 %, 2.170 %, Top-5: 85.130 %, Brier: 0.571, ECE: 15.970 %, ECE±: -15.970 %\n"
     ]
    },
    {
     "data": {
      "application/vnd.jupyter.widget-view+json": {
       "model_id": "9f97f2d661c04f53b8f3c038102efafc",
       "version_major": 2,
       "version_minor": 0
      },
      "text/plain": [
       "Batches-per-epoch=521:   0%|          | 0/521 [00:00<?, ?it/s]"
      ]
     },
     "metadata": {},
     "output_type": "display_data"
    },
    {
     "name": "stdout",
     "output_type": "stream",
     "text": [
      "NLL: 1.7466, Cutoffs: 0.0 %, 90.0 %, Accs: 58.250 %, 100.000 %, Uncs: 0.000 %, 100.000 %, IoUs: 41.698 %, 100.000 %, Freqs: 100.000 %, 2.000 %, Top-5: 84.470 %, Brier: 0.579, ECE: 16.543 %, ECE±: -16.543 %\n"
     ]
    },
    {
     "data": {
      "application/vnd.jupyter.widget-view+json": {
       "model_id": "e964cf8abf5147418d79fb909d425c03",
       "version_major": 2,
       "version_minor": 0
      },
      "text/plain": [
       "Batches-per-epoch=521:   0%|          | 0/521 [00:00<?, ?it/s]"
      ]
     },
     "metadata": {},
     "output_type": "display_data"
    },
    {
     "name": "stdout",
     "output_type": "stream",
     "text": [
      "NLL: 1.7110, Cutoffs: 0.0 %, 90.0 %, Accs: 59.180 %, 99.444 %, Uncs: 0.000 %, 99.976 %, IoUs: 42.917 %, 98.585 %, Freqs: 100.000 %, 1.800 %, Top-5: 85.140 %, Brier: 0.570, ECE: 16.613 %, ECE±: -16.613 %\n"
     ]
    },
    {
     "data": {
      "application/vnd.jupyter.widget-view+json": {
       "model_id": "62dbca81685a4150b7152ba8ee5dafb7",
       "version_major": 2,
       "version_minor": 0
      },
      "text/plain": [
       "Batches-per-epoch=521:   0%|          | 0/521 [00:00<?, ?it/s]"
      ]
     },
     "metadata": {},
     "output_type": "display_data"
    },
    {
     "name": "stdout",
     "output_type": "stream",
     "text": [
      "NLL: 1.6889, Cutoffs: 0.0 %, 90.0 %, Accs: 58.680 %, 99.567 %, Uncs: 0.000 %, 99.976 %, IoUs: 42.367 %, 98.852 %, Freqs: 100.000 %, 2.310 %, Top-5: 85.360 %, Brier: 0.569, ECE: 15.243 %, ECE±: -15.243 %\n"
     ]
    },
    {
     "data": {
      "application/vnd.jupyter.widget-view+json": {
       "model_id": "0d8eb14d9cbc417f9c007490773ddb22",
       "version_major": 2,
       "version_minor": 0
      },
      "text/plain": [
       "Batches-per-epoch=521:   0%|          | 0/521 [00:00<?, ?it/s]"
      ]
     },
     "metadata": {},
     "output_type": "display_data"
    },
    {
     "name": "stdout",
     "output_type": "stream",
     "text": [
      "NLL: 1.7013, Cutoffs: 0.0 %, 90.0 %, Accs: 59.020 %, 100.000 %, Uncs: 0.000 %, 100.000 %, IoUs: 42.748 %, 100.000 %, Freqs: 100.000 %, 1.950 %, Top-5: 85.110 %, Brier: 0.571, ECE: 16.434 %, ECE±: -16.434 %\n"
     ]
    },
    {
     "data": {
      "application/vnd.jupyter.widget-view+json": {
       "model_id": "2d4371362b7a44c4ba699192f4c09195",
       "version_major": 2,
       "version_minor": 0
      },
      "text/plain": [
       "Batches-per-epoch=521:   0%|          | 0/521 [00:00<?, ?it/s]"
      ]
     },
     "metadata": {},
     "output_type": "display_data"
    },
    {
     "name": "stdout",
     "output_type": "stream",
     "text": [
      "NLL: 1.7383, Cutoffs: 0.0 %, 90.0 %, Accs: 57.960 %, 98.995 %, Uncs: 0.000 %, 99.952 %, IoUs: 41.450 %, 97.153 %, Freqs: 100.000 %, 1.990 %, Top-5: 84.800 %, Brier: 0.575, ECE: 15.056 %, ECE±: -15.056 %\n"
     ]
    },
    {
     "data": {
      "application/vnd.jupyter.widget-view+json": {
       "model_id": "3a2a652b589b45a0a0c8e6b503927a27",
       "version_major": 2,
       "version_minor": 0
      },
      "text/plain": [
       "Batches-per-epoch=521:   0%|          | 0/521 [00:00<?, ?it/s]"
      ]
     },
     "metadata": {},
     "output_type": "display_data"
    },
    {
     "name": "stdout",
     "output_type": "stream",
     "text": [
      "NLL: 1.6956, Cutoffs: 0.0 %, 90.0 %, Accs: 58.980 %, 99.057 %, Uncs: 0.000 %, 99.951 %, IoUs: 42.442 %, 96.477 %, Freqs: 100.000 %, 2.120 %, Top-5: 85.220 %, Brier: 0.565, ECE: 16.145 %, ECE±: -16.145 %\n"
     ]
    },
    {
     "data": {
      "application/vnd.jupyter.widget-view+json": {
       "model_id": "ba2d2e2b62714e75944ca801d7ab9397",
       "version_major": 2,
       "version_minor": 0
      },
      "text/plain": [
       "Batches-per-epoch=521:   0%|          | 0/521 [00:00<?, ?it/s]"
      ]
     },
     "metadata": {},
     "output_type": "display_data"
    },
    {
     "name": "stdout",
     "output_type": "stream",
     "text": [
      "NLL: 1.7035, Cutoffs: 0.0 %, 90.0 %, Accs: 59.050 %, 99.537 %, Uncs: 0.000 %, 99.976 %, IoUs: 42.590 %, 98.977 %, Freqs: 100.000 %, 2.160 %, Top-5: 84.930 %, Brier: 0.567, ECE: 15.566 %, ECE±: -15.566 %\n"
     ]
    },
    {
     "data": {
      "application/vnd.jupyter.widget-view+json": {
       "model_id": "cb752f90f7294e018b3fbd780911c292",
       "version_major": 2,
       "version_minor": 0
      },
      "text/plain": [
       "Batches-per-epoch=521:   0%|          | 0/521 [00:00<?, ?it/s]"
      ]
     },
     "metadata": {},
     "output_type": "display_data"
    },
    {
     "name": "stdout",
     "output_type": "stream",
     "text": [
      "NLL: 1.6824, Cutoffs: 0.0 %, 90.0 %, Accs: 59.750 %, 99.559 %, Uncs: 0.000 %, 99.975 %, IoUs: 43.358 %, 98.056 %, Freqs: 100.000 %, 2.270 %, Top-5: 85.130 %, Brier: 0.559, ECE: 15.531 %, ECE±: -15.531 %\n"
     ]
    },
    {
     "data": {
      "application/vnd.jupyter.widget-view+json": {
       "model_id": "6a0821da8ad749fba802471e5a13c271",
       "version_major": 2,
       "version_minor": 0
      },
      "text/plain": [
       "Batches-per-epoch=521:   0%|          | 0/521 [00:00<?, ?it/s]"
      ]
     },
     "metadata": {},
     "output_type": "display_data"
    },
    {
     "name": "stdout",
     "output_type": "stream",
     "text": [
      "NLL: 1.6960, Cutoffs: 0.0 %, 90.0 %, Accs: 59.240 %, 99.451 %, Uncs: 0.000 %, 99.975 %, IoUs: 42.865 %, 97.778 %, Freqs: 100.000 %, 1.820 %, Top-5: 85.480 %, Brier: 0.565, ECE: 16.438 %, ECE±: -16.438 %\n"
     ]
    },
    {
     "data": {
      "application/vnd.jupyter.widget-view+json": {
       "model_id": "ad1db4cf71e14b78a24fcee038297417",
       "version_major": 2,
       "version_minor": 0
      },
      "text/plain": [
       "Batches-per-epoch=521:   0%|          | 0/521 [00:00<?, ?it/s]"
      ]
     },
     "metadata": {},
     "output_type": "display_data"
    },
    {
     "name": "stdout",
     "output_type": "stream",
     "text": [
      "NLL: 1.6651, Cutoffs: 0.0 %, 90.0 %, Accs: 59.570 %, 100.000 %, Uncs: 0.000 %, 100.000 %, IoUs: 43.323 %, 100.000 %, Freqs: 100.000 %, 2.680 %, Top-5: 85.790 %, Brier: 0.555, ECE: 14.326 %, ECE±: -14.326 %\n"
     ]
    },
    {
     "data": {
      "application/vnd.jupyter.widget-view+json": {
       "model_id": "e9308e157f5c415f9724f44a0fff57cb",
       "version_major": 2,
       "version_minor": 0
      },
      "text/plain": [
       "Batches-per-epoch=521:   0%|          | 0/521 [00:00<?, ?it/s]"
      ]
     },
     "metadata": {},
     "output_type": "display_data"
    },
    {
     "name": "stdout",
     "output_type": "stream",
     "text": [
      "NLL: 1.6712, Cutoffs: 0.0 %, 90.0 %, Accs: 59.950 %, 99.535 %, Uncs: 0.000 %, 99.975 %, IoUs: 43.434 %, 98.889 %, Freqs: 100.000 %, 2.150 %, Top-5: 85.860 %, Brier: 0.559, ECE: 16.543 %, ECE±: -16.543 %\n"
     ]
    },
    {
     "data": {
      "application/vnd.jupyter.widget-view+json": {
       "model_id": "5c76d9f9cc3c422cb470a9457b47863e",
       "version_major": 2,
       "version_minor": 0
      },
      "text/plain": [
       "Batches-per-epoch=521:   0%|          | 0/521 [00:00<?, ?it/s]"
      ]
     },
     "metadata": {},
     "output_type": "display_data"
    },
    {
     "name": "stdout",
     "output_type": "stream",
     "text": [
      "NLL: 1.7270, Cutoffs: 0.0 %, 90.0 %, Accs: 58.730 %, 99.465 %, Uncs: 0.000 %, 99.976 %, IoUs: 42.004 %, 97.576 %, Freqs: 100.000 %, 1.870 %, Top-5: 84.650 %, Brier: 0.568, ECE: 15.391 %, ECE±: -15.391 %\n"
     ]
    },
    {
     "data": {
      "application/vnd.jupyter.widget-view+json": {
       "model_id": "c9951e95397b45479085b7c34508aa7f",
       "version_major": 2,
       "version_minor": 0
      },
      "text/plain": [
       "Batches-per-epoch=521:   0%|          | 0/521 [00:00<?, ?it/s]"
      ]
     },
     "metadata": {},
     "output_type": "display_data"
    },
    {
     "name": "stdout",
     "output_type": "stream",
     "text": [
      "NLL: 1.6710, Cutoffs: 0.0 %, 90.0 %, Accs: 59.870 %, 99.539 %, Uncs: 0.000 %, 99.975 %, IoUs: 43.409 %, 98.889 %, Freqs: 100.000 %, 2.170 %, Top-5: 85.460 %, Brier: 0.556, ECE: 15.511 %, ECE±: -15.511 %\n"
     ]
    },
    {
     "data": {
      "application/vnd.jupyter.widget-view+json": {
       "model_id": "84cac8aec1ed4807a083a38b04c54fa0",
       "version_major": 2,
       "version_minor": 0
      },
      "text/plain": [
       "Batches-per-epoch=521:   0%|          | 0/521 [00:00<?, ?it/s]"
      ]
     },
     "metadata": {},
     "output_type": "display_data"
    },
    {
     "name": "stdout",
     "output_type": "stream",
     "text": [
      "NLL: 1.6524, Cutoffs: 0.0 %, 90.0 %, Accs: 60.210 %, 99.078 %, Uncs: 0.000 %, 99.950 %, IoUs: 43.922 %, 98.555 %, Freqs: 100.000 %, 2.170 %, Top-5: 85.730 %, Brier: 0.549, ECE: 15.391 %, ECE±: -15.391 %\n"
     ]
    },
    {
     "data": {
      "application/vnd.jupyter.widget-view+json": {
       "model_id": "59e58c58d0824df9be55f73b1c600337",
       "version_major": 2,
       "version_minor": 0
      },
      "text/plain": [
       "Batches-per-epoch=521:   0%|          | 0/521 [00:00<?, ?it/s]"
      ]
     },
     "metadata": {},
     "output_type": "display_data"
    },
    {
     "name": "stdout",
     "output_type": "stream",
     "text": [
      "NLL: 1.6742, Cutoffs: 0.0 %, 90.0 %, Accs: 59.100 %, 99.617 %, Uncs: 0.000 %, 99.976 %, IoUs: 42.823 %, 98.259 %, Freqs: 100.000 %, 2.610 %, Top-5: 85.320 %, Brier: 0.556, ECE: 13.779 %, ECE±: -13.779 %\n"
     ]
    },
    {
     "data": {
      "application/vnd.jupyter.widget-view+json": {
       "model_id": "30efb9b347df450c998b93ce9c9a80ca",
       "version_major": 2,
       "version_minor": 0
      },
      "text/plain": [
       "Batches-per-epoch=521:   0%|          | 0/521 [00:00<?, ?it/s]"
      ]
     },
     "metadata": {},
     "output_type": "display_data"
    },
    {
     "name": "stdout",
     "output_type": "stream",
     "text": [
      "NLL: 1.6549, Cutoffs: 0.0 %, 90.0 %, Accs: 59.980 %, 99.134 %, Uncs: 0.000 %, 99.950 %, IoUs: 43.719 %, 96.317 %, Freqs: 100.000 %, 2.310 %, Top-5: 85.720 %, Brier: 0.553, ECE: 15.167 %, ECE±: -15.167 %\n"
     ]
    },
    {
     "data": {
      "application/vnd.jupyter.widget-view+json": {
       "model_id": "4f7e49063cc64d908a183d194122d781",
       "version_major": 2,
       "version_minor": 0
      },
      "text/plain": [
       "Batches-per-epoch=521:   0%|          | 0/521 [00:00<?, ?it/s]"
      ]
     },
     "metadata": {},
     "output_type": "display_data"
    },
    {
     "name": "stdout",
     "output_type": "stream",
     "text": [
      "NLL: 1.6566, Cutoffs: 0.0 %, 90.0 %, Accs: 59.400 %, 99.561 %, Uncs: 0.000 %, 99.975 %, IoUs: 43.306 %, 98.295 %, Freqs: 100.000 %, 2.280 %, Top-5: 85.500 %, Brier: 0.553, ECE: 14.323 %, ECE±: -14.323 %\n"
     ]
    },
    {
     "data": {
      "application/vnd.jupyter.widget-view+json": {
       "model_id": "4e17a29ced6d4f908f0f9df771a3a89a",
       "version_major": 2,
       "version_minor": 0
      },
      "text/plain": [
       "Batches-per-epoch=521:   0%|          | 0/521 [00:00<?, ?it/s]"
      ]
     },
     "metadata": {},
     "output_type": "display_data"
    },
    {
     "name": "stdout",
     "output_type": "stream",
     "text": [
      "NLL: 1.6057, Cutoffs: 0.0 %, 90.0 %, Accs: 61.080 %, 99.647 %, Uncs: 0.000 %, 99.974 %, IoUs: 44.861 %, 99.005 %, Freqs: 100.000 %, 2.830 %, Top-5: 86.040 %, Brier: 0.538, ECE: 14.024 %, ECE±: -14.024 %\n"
     ]
    },
    {
     "data": {
      "application/vnd.jupyter.widget-view+json": {
       "model_id": "1ae4501b9c23495da78cea388ef81306",
       "version_major": 2,
       "version_minor": 0
      },
      "text/plain": [
       "Batches-per-epoch=521:   0%|          | 0/521 [00:00<?, ?it/s]"
      ]
     },
     "metadata": {},
     "output_type": "display_data"
    },
    {
     "name": "stdout",
     "output_type": "stream",
     "text": [
      "NLL: 1.6555, Cutoffs: 0.0 %, 90.0 %, Accs: 59.770 %, 98.837 %, Uncs: 0.000 %, 99.925 %, IoUs: 43.545 %, 96.527 %, Freqs: 100.000 %, 2.580 %, Top-5: 85.070 %, Brier: 0.551, ECE: 14.592 %, ECE±: -14.592 %\n"
     ]
    },
    {
     "data": {
      "application/vnd.jupyter.widget-view+json": {
       "model_id": "d2b291db8c7e44419468f278940b52e5",
       "version_major": 2,
       "version_minor": 0
      },
      "text/plain": [
       "Batches-per-epoch=521:   0%|          | 0/521 [00:00<?, ?it/s]"
      ]
     },
     "metadata": {},
     "output_type": "display_data"
    },
    {
     "name": "stdout",
     "output_type": "stream",
     "text": [
      "NLL: 1.6311, Cutoffs: 0.0 %, 90.0 %, Accs: 60.260 %, 99.286 %, Uncs: 0.000 %, 99.950 %, IoUs: 43.933 %, 98.413 %, Freqs: 100.000 %, 2.800 %, Top-5: 85.670 %, Brier: 0.547, ECE: 14.111 %, ECE±: -14.111 %\n"
     ]
    },
    {
     "data": {
      "application/vnd.jupyter.widget-view+json": {
       "model_id": "a09ca30f094e4adea77c5cfe79a4e566",
       "version_major": 2,
       "version_minor": 0
      },
      "text/plain": [
       "Batches-per-epoch=521:   0%|          | 0/521 [00:00<?, ?it/s]"
      ]
     },
     "metadata": {},
     "output_type": "display_data"
    },
    {
     "name": "stdout",
     "output_type": "stream",
     "text": [
      "NLL: 1.5992, Cutoffs: 0.0 %, 90.0 %, Accs: 61.870 %, 98.881 %, Uncs: 0.000 %, 99.921 %, IoUs: 45.879 %, 97.431 %, Freqs: 100.000 %, 2.680 %, Top-5: 86.300 %, Brier: 0.537, ECE: 15.745 %, ECE±: -15.745 %\n"
     ]
    },
    {
     "data": {
      "application/vnd.jupyter.widget-view+json": {
       "model_id": "b7985ffd11274c7db745a269874c2afe",
       "version_major": 2,
       "version_minor": 0
      },
      "text/plain": [
       "Batches-per-epoch=521:   0%|          | 0/521 [00:00<?, ?it/s]"
      ]
     },
     "metadata": {},
     "output_type": "display_data"
    },
    {
     "name": "stdout",
     "output_type": "stream",
     "text": [
      "NLL: 1.6085, Cutoffs: 0.0 %, 90.0 %, Accs: 60.530 %, 99.621 %, Uncs: 0.000 %, 99.975 %, IoUs: 44.702 %, 98.958 %, Freqs: 100.000 %, 2.640 %, Top-5: 86.140 %, Brier: 0.543, ECE: 14.802 %, ECE±: -14.802 %\n"
     ]
    },
    {
     "data": {
      "application/vnd.jupyter.widget-view+json": {
       "model_id": "1bb366b82c14428ea4c1ae54f0b7b722",
       "version_major": 2,
       "version_minor": 0
      },
      "text/plain": [
       "Batches-per-epoch=521:   0%|          | 0/521 [00:00<?, ?it/s]"
      ]
     },
     "metadata": {},
     "output_type": "display_data"
    },
    {
     "name": "stdout",
     "output_type": "stream",
     "text": [
      "NLL: 1.6099, Cutoffs: 0.0 %, 90.0 %, Accs: 60.890 %, 100.000 %, Uncs: 0.000 %, 100.000 %, IoUs: 44.603 %, 100.000 %, Freqs: 100.000 %, 3.030 %, Top-5: 86.230 %, Brier: 0.539, ECE: 14.045 %, ECE±: -14.045 %\n"
     ]
    },
    {
     "data": {
      "application/vnd.jupyter.widget-view+json": {
       "model_id": "5ddc7777517e4558b9c3deeb297ec6e9",
       "version_major": 2,
       "version_minor": 0
      },
      "text/plain": [
       "Batches-per-epoch=521:   0%|          | 0/521 [00:00<?, ?it/s]"
      ]
     },
     "metadata": {},
     "output_type": "display_data"
    },
    {
     "name": "stdout",
     "output_type": "stream",
     "text": [
      "NLL: 1.6572, Cutoffs: 0.0 %, 90.0 %, Accs: 60.300 %, 99.634 %, Uncs: 0.000 %, 99.975 %, IoUs: 44.146 %, 99.328 %, Freqs: 100.000 %, 2.730 %, Top-5: 85.680 %, Brier: 0.550, ECE: 15.318 %, ECE±: -15.318 %\n"
     ]
    },
    {
     "data": {
      "application/vnd.jupyter.widget-view+json": {
       "model_id": "ab7ca42672fd412f9f1a933f8540392e",
       "version_major": 2,
       "version_minor": 0
      },
      "text/plain": [
       "Batches-per-epoch=521:   0%|          | 0/521 [00:00<?, ?it/s]"
      ]
     },
     "metadata": {},
     "output_type": "display_data"
    },
    {
     "name": "stdout",
     "output_type": "stream",
     "text": [
      "NLL: 1.6609, Cutoffs: 0.0 %, 90.0 %, Accs: 60.170 %, 98.655 %, Uncs: 0.000 %, 99.925 %, IoUs: 43.788 %, 96.159 %, Freqs: 100.000 %, 2.230 %, Top-5: 85.580 %, Brier: 0.550, ECE: 14.641 %, ECE±: -14.641 %\n"
     ]
    },
    {
     "data": {
      "application/vnd.jupyter.widget-view+json": {
       "model_id": "8948af0884d24db2b95ad105929bc8ab",
       "version_major": 2,
       "version_minor": 0
      },
      "text/plain": [
       "Batches-per-epoch=521:   0%|          | 0/521 [00:00<?, ?it/s]"
      ]
     },
     "metadata": {},
     "output_type": "display_data"
    },
    {
     "name": "stdout",
     "output_type": "stream",
     "text": [
      "NLL: 1.6184, Cutoffs: 0.0 %, 90.0 %, Accs: 61.210 %, 99.608 %, Uncs: 0.000 %, 99.974 %, IoUs: 45.229 %, 98.214 %, Freqs: 100.000 %, 2.550 %, Top-5: 86.140 %, Brier: 0.540, ECE: 15.900 %, ECE±: -15.900 %\n"
     ]
    },
    {
     "data": {
      "application/vnd.jupyter.widget-view+json": {
       "model_id": "3502f3ea2b7d4ddb86039e5f89aac6b9",
       "version_major": 2,
       "version_minor": 0
      },
      "text/plain": [
       "Batches-per-epoch=521:   0%|          | 0/521 [00:00<?, ?it/s]"
      ]
     },
     "metadata": {},
     "output_type": "display_data"
    },
    {
     "name": "stdout",
     "output_type": "stream",
     "text": [
      "NLL: 1.6258, Cutoffs: 0.0 %, 90.0 %, Accs: 60.560 %, 99.281 %, Uncs: 0.000 %, 99.949 %, IoUs: 44.281 %, 97.869 %, Freqs: 100.000 %, 2.780 %, Top-5: 85.600 %, Brier: 0.542, ECE: 14.101 %, ECE±: -14.101 %\n"
     ]
    },
    {
     "data": {
      "application/vnd.jupyter.widget-view+json": {
       "model_id": "e4a576b2f2cd424b99a6b4350c1e033e",
       "version_major": 2,
       "version_minor": 0
      },
      "text/plain": [
       "Batches-per-epoch=521:   0%|          | 0/521 [00:00<?, ?it/s]"
      ]
     },
     "metadata": {},
     "output_type": "display_data"
    },
    {
     "name": "stdout",
     "output_type": "stream",
     "text": [
      "NLL: 1.6208, Cutoffs: 0.0 %, 90.0 %, Accs: 60.700 %, 99.650 %, Uncs: 0.000 %, 99.975 %, IoUs: 44.443 %, 99.048 %, Freqs: 100.000 %, 2.860 %, Top-5: 86.170 %, Brier: 0.542, ECE: 14.320 %, ECE±: -14.320 %\n"
     ]
    },
    {
     "data": {
      "application/vnd.jupyter.widget-view+json": {
       "model_id": "766ce8ddb2dd47a38dacd3a05c40c3b6",
       "version_major": 2,
       "version_minor": 0
      },
      "text/plain": [
       "Batches-per-epoch=521:   0%|          | 0/521 [00:00<?, ?it/s]"
      ]
     },
     "metadata": {},
     "output_type": "display_data"
    },
    {
     "name": "stdout",
     "output_type": "stream",
     "text": [
      "NLL: 1.6542, Cutoffs: 0.0 %, 90.0 %, Accs: 60.260 %, 99.652 %, Uncs: 0.000 %, 99.975 %, IoUs: 43.779 %, 98.259 %, Freqs: 100.000 %, 2.870 %, Top-5: 85.400 %, Brier: 0.547, ECE: 13.973 %, ECE±: -13.973 %\n"
     ]
    },
    {
     "data": {
      "application/vnd.jupyter.widget-view+json": {
       "model_id": "6c5869c2a8454d30903239e24fee466a",
       "version_major": 2,
       "version_minor": 0
      },
      "text/plain": [
       "Batches-per-epoch=521:   0%|          | 0/521 [00:00<?, ?it/s]"
      ]
     },
     "metadata": {},
     "output_type": "display_data"
    },
    {
     "name": "stdout",
     "output_type": "stream",
     "text": [
      "NLL: 1.6361, Cutoffs: 0.0 %, 90.0 %, Accs: 60.310 %, 99.278 %, Uncs: 0.000 %, 99.950 %, IoUs: 44.166 %, 97.211 %, Freqs: 100.000 %, 2.770 %, Top-5: 85.880 %, Brier: 0.545, ECE: 14.600 %, ECE±: -14.600 %\n"
     ]
    },
    {
     "data": {
      "application/vnd.jupyter.widget-view+json": {
       "model_id": "14fb8c3b15a6426b907579a82f9121be",
       "version_major": 2,
       "version_minor": 0
      },
      "text/plain": [
       "Batches-per-epoch=521:   0%|          | 0/521 [00:00<?, ?it/s]"
      ]
     },
     "metadata": {},
     "output_type": "display_data"
    },
    {
     "name": "stdout",
     "output_type": "stream",
     "text": [
      "NLL: 1.5969, Cutoffs: 0.0 %, 90.0 %, Accs: 61.710 %, 98.726 %, Uncs: 0.000 %, 99.896 %, IoUs: 45.327 %, 95.234 %, Freqs: 100.000 %, 3.140 %, Top-5: 86.240 %, Brier: 0.533, ECE: 14.811 %, ECE±: -14.811 %\n"
     ]
    },
    {
     "data": {
      "application/vnd.jupyter.widget-view+json": {
       "model_id": "47b158309a9d425dbadb4c049c49ec75",
       "version_major": 2,
       "version_minor": 0
      },
      "text/plain": [
       "Batches-per-epoch=521:   0%|          | 0/521 [00:00<?, ?it/s]"
      ]
     },
     "metadata": {},
     "output_type": "display_data"
    },
    {
     "name": "stdout",
     "output_type": "stream",
     "text": [
      "NLL: 1.6110, Cutoffs: 0.0 %, 90.0 %, Accs: 61.180 %, 99.171 %, Uncs: 0.000 %, 99.923 %, IoUs: 44.883 %, 97.397 %, Freqs: 100.000 %, 3.620 %, Top-5: 85.820 %, Brier: 0.532, ECE: 13.394 %, ECE±: -13.394 %\n"
     ]
    },
    {
     "data": {
      "application/vnd.jupyter.widget-view+json": {
       "model_id": "d665de4ec2ed4b6b8d1f6da41ec8df3d",
       "version_major": 2,
       "version_minor": 0
      },
      "text/plain": [
       "Batches-per-epoch=521:   0%|          | 0/521 [00:00<?, ?it/s]"
      ]
     },
     "metadata": {},
     "output_type": "display_data"
    },
    {
     "name": "stdout",
     "output_type": "stream",
     "text": [
      "NLL: 1.5633, Cutoffs: 0.0 %, 90.0 %, Accs: 62.420 %, 99.717 %, Uncs: 0.000 %, 99.973 %, IoUs: 46.202 %, 99.389 %, Freqs: 100.000 %, 3.530 %, Top-5: 87.010 %, Brier: 0.522, ECE: 14.282 %, ECE±: -14.282 %\n"
     ]
    },
    {
     "data": {
      "application/vnd.jupyter.widget-view+json": {
       "model_id": "16d5ffa31eb04531aadb2298ca2175b7",
       "version_major": 2,
       "version_minor": 0
      },
      "text/plain": [
       "Batches-per-epoch=521:   0%|          | 0/521 [00:00<?, ?it/s]"
      ]
     },
     "metadata": {},
     "output_type": "display_data"
    },
    {
     "name": "stdout",
     "output_type": "stream",
     "text": [
      "NLL: 1.6262, Cutoffs: 0.0 %, 90.0 %, Accs: 61.140 %, 98.917 %, Uncs: 0.000 %, 99.923 %, IoUs: 44.815 %, 96.249 %, Freqs: 100.000 %, 2.770 %, Top-5: 85.500 %, Brier: 0.537, ECE: 14.649 %, ECE±: -14.649 %\n"
     ]
    },
    {
     "data": {
      "application/vnd.jupyter.widget-view+json": {
       "model_id": "42cc3d7577b948d98bd38e6fbb4b5cff",
       "version_major": 2,
       "version_minor": 0
      },
      "text/plain": [
       "Batches-per-epoch=521:   0%|          | 0/521 [00:00<?, ?it/s]"
      ]
     },
     "metadata": {},
     "output_type": "display_data"
    },
    {
     "name": "stdout",
     "output_type": "stream",
     "text": [
      "NLL: 1.5993, Cutoffs: 0.0 %, 90.0 %, Accs: 61.430 %, 100.000 %, Uncs: 0.000 %, 100.000 %, IoUs: 44.958 %, 100.000 %, Freqs: 100.000 %, 2.880 %, Top-5: 86.150 %, Brier: 0.531, ECE: 14.247 %, ECE±: -14.247 %\n"
     ]
    },
    {
     "data": {
      "application/vnd.jupyter.widget-view+json": {
       "model_id": "3301ca8f06a8485b932689992d60bac3",
       "version_major": 2,
       "version_minor": 0
      },
      "text/plain": [
       "Batches-per-epoch=521:   0%|          | 0/521 [00:00<?, ?it/s]"
      ]
     },
     "metadata": {},
     "output_type": "display_data"
    },
    {
     "name": "stdout",
     "output_type": "stream",
     "text": [
      "NLL: 1.5976, Cutoffs: 0.0 %, 90.0 %, Accs: 61.700 %, 99.674 %, Uncs: 0.000 %, 99.974 %, IoUs: 45.677 %, 99.413 %, Freqs: 100.000 %, 3.070 %, Top-5: 86.070 %, Brier: 0.530, ECE: 14.141 %, ECE±: -14.141 %\n"
     ]
    },
    {
     "data": {
      "application/vnd.jupyter.widget-view+json": {
       "model_id": "d858959acab94aa882e5575ccd71ef08",
       "version_major": 2,
       "version_minor": 0
      },
      "text/plain": [
       "Batches-per-epoch=521:   0%|          | 0/521 [00:00<?, ?it/s]"
      ]
     },
     "metadata": {},
     "output_type": "display_data"
    },
    {
     "name": "stdout",
     "output_type": "stream",
     "text": [
      "NLL: 1.5988, Cutoffs: 0.0 %, 90.0 %, Accs: 61.570 %, 99.654 %, Uncs: 0.000 %, 99.974 %, IoUs: 45.319 %, 99.286 %, Freqs: 100.000 %, 2.890 %, Top-5: 86.460 %, Brier: 0.531, ECE: 14.543 %, ECE±: -14.543 %\n"
     ]
    },
    {
     "data": {
      "application/vnd.jupyter.widget-view+json": {
       "model_id": "59e07b292daa47879299be4057175554",
       "version_major": 2,
       "version_minor": 0
      },
      "text/plain": [
       "Batches-per-epoch=521:   0%|          | 0/521 [00:00<?, ?it/s]"
      ]
     },
     "metadata": {},
     "output_type": "display_data"
    },
    {
     "name": "stdout",
     "output_type": "stream",
     "text": [
      "NLL: 1.5762, Cutoffs: 0.0 %, 90.0 %, Accs: 61.760 %, 99.385 %, Uncs: 0.000 %, 99.948 %, IoUs: 45.681 %, 98.037 %, Freqs: 100.000 %, 3.250 %, Top-5: 86.640 %, Brier: 0.527, ECE: 14.350 %, ECE±: -14.350 %\n"
     ]
    },
    {
     "data": {
      "application/vnd.jupyter.widget-view+json": {
       "model_id": "18ca7390f7284944a08cb5dcb96d0263",
       "version_major": 2,
       "version_minor": 0
      },
      "text/plain": [
       "Batches-per-epoch=521:   0%|          | 0/521 [00:00<?, ?it/s]"
      ]
     },
     "metadata": {},
     "output_type": "display_data"
    },
    {
     "name": "stdout",
     "output_type": "stream",
     "text": [
      "NLL: 1.6176, Cutoffs: 0.0 %, 90.0 %, Accs: 61.190 %, 99.666 %, Uncs: 0.000 %, 99.974 %, IoUs: 44.689 %, 99.558 %, Freqs: 100.000 %, 2.990 %, Top-5: 85.890 %, Brier: 0.535, ECE: 13.803 %, ECE±: -13.803 %\n"
     ]
    },
    {
     "data": {
      "application/vnd.jupyter.widget-view+json": {
       "model_id": "2d15b6f48cb1441ab45e5b29906f0a47",
       "version_major": 2,
       "version_minor": 0
      },
      "text/plain": [
       "Batches-per-epoch=521:   0%|          | 0/521 [00:00<?, ?it/s]"
      ]
     },
     "metadata": {},
     "output_type": "display_data"
    },
    {
     "name": "stdout",
     "output_type": "stream",
     "text": [
      "NLL: 1.5953, Cutoffs: 0.0 %, 90.0 %, Accs: 61.100 %, 99.071 %, Uncs: 0.000 %, 99.923 %, IoUs: 44.834 %, 98.801 %, Freqs: 100.000 %, 3.230 %, Top-5: 86.140 %, Brier: 0.529, ECE: 13.120 %, ECE±: -13.120 %\n"
     ]
    },
    {
     "data": {
      "application/vnd.jupyter.widget-view+json": {
       "model_id": "fa0b006f99c148bbb59abedfc3822100",
       "version_major": 2,
       "version_minor": 0
      },
      "text/plain": [
       "Batches-per-epoch=521:   0%|          | 0/521 [00:00<?, ?it/s]"
      ]
     },
     "metadata": {},
     "output_type": "display_data"
    },
    {
     "name": "stdout",
     "output_type": "stream",
     "text": [
      "NLL: 1.6053, Cutoffs: 0.0 %, 90.0 %, Accs: 61.400 %, 99.275 %, Uncs: 0.000 %, 99.948 %, IoUs: 45.219 %, 98.401 %, Freqs: 100.000 %, 2.760 %, Top-5: 86.170 %, Brier: 0.533, ECE: 14.552 %, ECE±: -14.552 %\n"
     ]
    },
    {
     "data": {
      "application/vnd.jupyter.widget-view+json": {
       "model_id": "72a419af018e412c872cb34d04bbcb89",
       "version_major": 2,
       "version_minor": 0
      },
      "text/plain": [
       "Batches-per-epoch=521:   0%|          | 0/521 [00:00<?, ?it/s]"
      ]
     },
     "metadata": {},
     "output_type": "display_data"
    },
    {
     "name": "stdout",
     "output_type": "stream",
     "text": [
      "NLL: 1.5586, Cutoffs: 0.0 %, 90.0 %, Accs: 62.790 %, 98.625 %, Uncs: 0.000 %, 99.893 %, IoUs: 46.726 %, 96.970 %, Freqs: 100.000 %, 2.910 %, Top-5: 87.150 %, Brier: 0.522, ECE: 15.366 %, ECE±: -15.366 %\n"
     ]
    },
    {
     "data": {
      "application/vnd.jupyter.widget-view+json": {
       "model_id": "c8bd403ada344f5985bf7a75ec429c35",
       "version_major": 2,
       "version_minor": 0
      },
      "text/plain": [
       "Batches-per-epoch=521:   0%|          | 0/521 [00:00<?, ?it/s]"
      ]
     },
     "metadata": {},
     "output_type": "display_data"
    },
    {
     "name": "stdout",
     "output_type": "stream",
     "text": [
      "NLL: 1.5508, Cutoffs: 0.0 %, 90.0 %, Accs: 62.210 %, 99.455 %, Uncs: 0.000 %, 99.947 %, IoUs: 46.046 %, 97.721 %, Freqs: 100.000 %, 3.670 %, Top-5: 86.910 %, Brier: 0.519, ECE: 13.291 %, ECE±: -13.291 %\n"
     ]
    },
    {
     "data": {
      "application/vnd.jupyter.widget-view+json": {
       "model_id": "d5181036b10d4bd8a85971876838fcf2",
       "version_major": 2,
       "version_minor": 0
      },
      "text/plain": [
       "Batches-per-epoch=521:   0%|          | 0/521 [00:00<?, ?it/s]"
      ]
     },
     "metadata": {},
     "output_type": "display_data"
    },
    {
     "name": "stdout",
     "output_type": "stream",
     "text": [
      "NLL: 1.5960, Cutoffs: 0.0 %, 90.0 %, Accs: 62.050 %, 99.153 %, Uncs: 0.000 %, 99.947 %, IoUs: 45.717 %, 98.713 %, Freqs: 100.000 %, 2.360 %, Top-5: 86.760 %, Brier: 0.530, ECE: 16.099 %, ECE±: -16.099 %\n"
     ]
    },
    {
     "data": {
      "application/vnd.jupyter.widget-view+json": {
       "model_id": "4f97ed4ca1e7481e9e204918658c2118",
       "version_major": 2,
       "version_minor": 0
      },
      "text/plain": [
       "Batches-per-epoch=521:   0%|          | 0/521 [00:00<?, ?it/s]"
      ]
     },
     "metadata": {},
     "output_type": "display_data"
    },
    {
     "name": "stdout",
     "output_type": "stream",
     "text": [
      "NLL: 1.5738, Cutoffs: 0.0 %, 90.0 %, Accs: 62.420 %, 100.000 %, Uncs: 0.000 %, 100.000 %, IoUs: 46.422 %, 100.000 %, Freqs: 100.000 %, 2.830 %, Top-5: 86.530 %, Brier: 0.524, ECE: 14.726 %, ECE±: -14.726 %\n"
     ]
    },
    {
     "data": {
      "application/vnd.jupyter.widget-view+json": {
       "model_id": "5a7f09a389a74076ac39a4560f09ae15",
       "version_major": 2,
       "version_minor": 0
      },
      "text/plain": [
       "Batches-per-epoch=521:   0%|          | 0/521 [00:00<?, ?it/s]"
      ]
     },
     "metadata": {},
     "output_type": "display_data"
    },
    {
     "name": "stdout",
     "output_type": "stream",
     "text": [
      "NLL: 1.5769, Cutoffs: 0.0 %, 90.0 %, Accs: 62.270 %, 99.200 %, Uncs: 0.000 %, 99.947 %, IoUs: 46.186 %, 97.354 %, Freqs: 100.000 %, 2.500 %, Top-5: 87.090 %, Brier: 0.527, ECE: 15.430 %, ECE±: -15.430 %\n"
     ]
    },
    {
     "data": {
      "application/vnd.jupyter.widget-view+json": {
       "model_id": "930fb6ee78d740329302529ca31e1d5e",
       "version_major": 2,
       "version_minor": 0
      },
      "text/plain": [
       "Batches-per-epoch=521:   0%|          | 0/521 [00:00<?, ?it/s]"
      ]
     },
     "metadata": {},
     "output_type": "display_data"
    },
    {
     "name": "stdout",
     "output_type": "stream",
     "text": [
      "NLL: 1.5674, Cutoffs: 0.0 %, 90.0 %, Accs: 62.160 %, 99.701 %, Uncs: 0.000 %, 99.974 %, IoUs: 46.118 %, 98.636 %, Freqs: 100.000 %, 3.340 %, Top-5: 86.510 %, Brier: 0.522, ECE: 13.638 %, ECE±: -13.638 %\n"
     ]
    },
    {
     "data": {
      "application/vnd.jupyter.widget-view+json": {
       "model_id": "25cda004448445cd9b3835a5e0946684",
       "version_major": 2,
       "version_minor": 0
      },
      "text/plain": [
       "Batches-per-epoch=521:   0%|          | 0/521 [00:00<?, ?it/s]"
      ]
     },
     "metadata": {},
     "output_type": "display_data"
    },
    {
     "name": "stdout",
     "output_type": "stream",
     "text": [
      "NLL: 1.5660, Cutoffs: 0.0 %, 90.0 %, Accs: 62.320 %, 99.660 %, Uncs: 0.000 %, 99.973 %, IoUs: 46.216 %, 98.734 %, Freqs: 100.000 %, 2.940 %, Top-5: 86.320 %, Brier: 0.520, ECE: 14.392 %, ECE±: -14.392 %\n"
     ]
    },
    {
     "data": {
      "application/vnd.jupyter.widget-view+json": {
       "model_id": "1480e23d23d94c5099a1c25bd80853d1",
       "version_major": 2,
       "version_minor": 0
      },
      "text/plain": [
       "Batches-per-epoch=521:   0%|          | 0/521 [00:00<?, ?it/s]"
      ]
     },
     "metadata": {},
     "output_type": "display_data"
    },
    {
     "name": "stdout",
     "output_type": "stream",
     "text": [
      "NLL: 1.5531, Cutoffs: 0.0 %, 90.0 %, Accs: 62.380 %, 100.000 %, Uncs: 0.000 %, 100.000 %, IoUs: 46.337 %, 100.000 %, Freqs: 100.000 %, 3.470 %, Top-5: 86.810 %, Brier: 0.514, ECE: 13.015 %, ECE±: -13.015 %\n"
     ]
    },
    {
     "data": {
      "application/vnd.jupyter.widget-view+json": {
       "model_id": "1b2f292925ad4bc88dc259006f1cdc66",
       "version_major": 2,
       "version_minor": 0
      },
      "text/plain": [
       "Batches-per-epoch=521:   0%|          | 0/521 [00:00<?, ?it/s]"
      ]
     },
     "metadata": {},
     "output_type": "display_data"
    },
    {
     "name": "stdout",
     "output_type": "stream",
     "text": [
      "NLL: 1.5737, Cutoffs: 0.0 %, 90.0 %, Accs: 62.510 %, 99.396 %, Uncs: 0.000 %, 99.947 %, IoUs: 46.216 %, 97.489 %, Freqs: 100.000 %, 3.310 %, Top-5: 86.500 %, Brier: 0.520, ECE: 14.032 %, ECE±: -14.032 %\n"
     ]
    },
    {
     "data": {
      "application/vnd.jupyter.widget-view+json": {
       "model_id": "7ab5f10e56304c2e906512b34071e132",
       "version_major": 2,
       "version_minor": 0
      },
      "text/plain": [
       "Batches-per-epoch=521:   0%|          | 0/521 [00:00<?, ?it/s]"
      ]
     },
     "metadata": {},
     "output_type": "display_data"
    },
    {
     "name": "stdout",
     "output_type": "stream",
     "text": [
      "NLL: 1.5629, Cutoffs: 0.0 %, 90.0 %, Accs: 62.410 %, 99.701 %, Uncs: 0.000 %, 99.973 %, IoUs: 46.253 %, 99.500 %, Freqs: 100.000 %, 3.350 %, Top-5: 86.520 %, Brier: 0.516, ECE: 13.556 %, ECE±: -13.556 %\n"
     ]
    },
    {
     "data": {
      "application/vnd.jupyter.widget-view+json": {
       "model_id": "2e81f7b3d6604c7593a468613b448a9e",
       "version_major": 2,
       "version_minor": 0
      },
      "text/plain": [
       "Batches-per-epoch=521:   0%|          | 0/521 [00:00<?, ?it/s]"
      ]
     },
     "metadata": {},
     "output_type": "display_data"
    },
    {
     "name": "stdout",
     "output_type": "stream",
     "text": [
      "NLL: 1.5476, Cutoffs: 0.0 %, 90.0 %, Accs: 62.780 %, 99.728 %, Uncs: 0.000 %, 99.973 %, IoUs: 46.806 %, 99.487 %, Freqs: 100.000 %, 3.680 %, Top-5: 87.070 %, Brier: 0.513, ECE: 13.541 %, ECE±: -13.541 %\n"
     ]
    },
    {
     "data": {
      "application/vnd.jupyter.widget-view+json": {
       "model_id": "39128991dbe44c9b948222ab6d4702e7",
       "version_major": 2,
       "version_minor": 0
      },
      "text/plain": [
       "Batches-per-epoch=521:   0%|          | 0/521 [00:00<?, ?it/s]"
      ]
     },
     "metadata": {},
     "output_type": "display_data"
    },
    {
     "name": "stdout",
     "output_type": "stream",
     "text": [
      "NLL: 1.5952, Cutoffs: 0.0 %, 90.0 %, Accs: 62.030 %, 100.000 %, Uncs: 0.000 %, 100.000 %, IoUs: 45.873 %, 100.000 %, Freqs: 100.000 %, 3.030 %, Top-5: 86.500 %, Brier: 0.530, ECE: 14.602 %, ECE±: -14.602 %\n"
     ]
    },
    {
     "data": {
      "application/vnd.jupyter.widget-view+json": {
       "model_id": "4e61046ba268448ea8e4e92c6db0457f",
       "version_major": 2,
       "version_minor": 0
      },
      "text/plain": [
       "Batches-per-epoch=521:   0%|          | 0/521 [00:00<?, ?it/s]"
      ]
     },
     "metadata": {},
     "output_type": "display_data"
    },
    {
     "name": "stdout",
     "output_type": "stream",
     "text": [
      "NLL: 1.5462, Cutoffs: 0.0 %, 90.0 %, Accs: 63.170 %, 100.000 %, Uncs: 0.000 %, 100.000 %, IoUs: 47.290 %, 100.000 %, Freqs: 100.000 %, 3.180 %, Top-5: 86.930 %, Brier: 0.511, ECE: 13.869 %, ECE±: -13.869 %\n"
     ]
    },
    {
     "data": {
      "application/vnd.jupyter.widget-view+json": {
       "model_id": "9e7c618556c1498b9833567185b833f9",
       "version_major": 2,
       "version_minor": 0
      },
      "text/plain": [
       "Batches-per-epoch=521:   0%|          | 0/521 [00:00<?, ?it/s]"
      ]
     },
     "metadata": {},
     "output_type": "display_data"
    },
    {
     "name": "stdout",
     "output_type": "stream",
     "text": [
      "NLL: 1.5312, Cutoffs: 0.0 %, 90.0 %, Accs: 63.220 %, 99.746 %, Uncs: 0.000 %, 99.973 %, IoUs: 47.256 %, 99.740 %, Freqs: 100.000 %, 3.940 %, Top-5: 87.170 %, Brier: 0.506, ECE: 12.862 %, ECE±: -12.862 %\n"
     ]
    },
    {
     "data": {
      "application/vnd.jupyter.widget-view+json": {
       "model_id": "3a911d28cd9b49ecb92bedf7babe17e4",
       "version_major": 2,
       "version_minor": 0
      },
      "text/plain": [
       "Batches-per-epoch=521:   0%|          | 0/521 [00:00<?, ?it/s]"
      ]
     },
     "metadata": {},
     "output_type": "display_data"
    },
    {
     "name": "stdout",
     "output_type": "stream",
     "text": [
      "NLL: 1.5381, Cutoffs: 0.0 %, 90.0 %, Accs: 62.750 %, 99.700 %, Uncs: 0.000 %, 99.973 %, IoUs: 46.830 %, 99.324 %, Freqs: 100.000 %, 3.330 %, Top-5: 87.270 %, Brier: 0.513, ECE: 13.524 %, ECE±: -13.524 %\n"
     ]
    },
    {
     "data": {
      "application/vnd.jupyter.widget-view+json": {
       "model_id": "368aea788e5e45fe9c1900d407ff8d2e",
       "version_major": 2,
       "version_minor": 0
      },
      "text/plain": [
       "Batches-per-epoch=521:   0%|          | 0/521 [00:00<?, ?it/s]"
      ]
     },
     "metadata": {},
     "output_type": "display_data"
    },
    {
     "name": "stdout",
     "output_type": "stream",
     "text": [
      "NLL: 1.5525, Cutoffs: 0.0 %, 90.0 %, Accs: 62.510 %, 100.000 %, Uncs: 0.000 %, 100.000 %, IoUs: 46.134 %, 100.000 %, Freqs: 100.000 %, 3.370 %, Top-5: 86.590 %, Brier: 0.512, ECE: 12.854 %, ECE±: -12.854 %\n"
     ]
    },
    {
     "data": {
      "application/vnd.jupyter.widget-view+json": {
       "model_id": "850499f77a874d4caeca075f3a967105",
       "version_major": 2,
       "version_minor": 0
      },
      "text/plain": [
       "Batches-per-epoch=521:   0%|          | 0/521 [00:00<?, ?it/s]"
      ]
     },
     "metadata": {},
     "output_type": "display_data"
    },
    {
     "name": "stdout",
     "output_type": "stream",
     "text": [
      "NLL: 1.5328, Cutoffs: 0.0 %, 90.0 %, Accs: 62.830 %, 99.422 %, Uncs: 0.000 %, 99.946 %, IoUs: 46.638 %, 98.860 %, Freqs: 100.000 %, 3.460 %, Top-5: 87.310 %, Brier: 0.509, ECE: 13.020 %, ECE±: -13.020 %\n"
     ]
    },
    {
     "data": {
      "application/vnd.jupyter.widget-view+json": {
       "model_id": "0d6bb18a64334569ac2946283df3e724",
       "version_major": 2,
       "version_minor": 0
      },
      "text/plain": [
       "Batches-per-epoch=521:   0%|          | 0/521 [00:00<?, ?it/s]"
      ]
     },
     "metadata": {},
     "output_type": "display_data"
    },
    {
     "name": "stdout",
     "output_type": "stream",
     "text": [
      "NLL: 1.5308, Cutoffs: 0.0 %, 90.0 %, Accs: 63.470 %, 99.088 %, Uncs: 0.000 %, 99.918 %, IoUs: 47.409 %, 98.222 %, Freqs: 100.000 %, 3.290 %, Top-5: 86.920 %, Brier: 0.507, ECE: 13.215 %, ECE±: -13.215 %\n"
     ]
    },
    {
     "data": {
      "application/vnd.jupyter.widget-view+json": {
       "model_id": "59d5600d0c4d44f8b0de95011e521b44",
       "version_major": 2,
       "version_minor": 0
      },
      "text/plain": [
       "Batches-per-epoch=521:   0%|          | 0/521 [00:00<?, ?it/s]"
      ]
     },
     "metadata": {},
     "output_type": "display_data"
    },
    {
     "name": "stdout",
     "output_type": "stream",
     "text": [
      "NLL: 1.5866, Cutoffs: 0.0 %, 90.0 %, Accs: 62.130 %, 99.203 %, Uncs: 0.000 %, 99.947 %, IoUs: 45.968 %, 97.115 %, Freqs: 100.000 %, 2.510 %, Top-5: 86.250 %, Brier: 0.521, ECE: 13.639 %, ECE±: -13.639 %\n"
     ]
    },
    {
     "data": {
      "application/vnd.jupyter.widget-view+json": {
       "model_id": "b7bdb9747ca9467c8efb1589ab3c28f3",
       "version_major": 2,
       "version_minor": 0
      },
      "text/plain": [
       "Batches-per-epoch=521:   0%|          | 0/521 [00:00<?, ?it/s]"
      ]
     },
     "metadata": {},
     "output_type": "display_data"
    },
    {
     "name": "stdout",
     "output_type": "stream",
     "text": [
      "NLL: 1.5263, Cutoffs: 0.0 %, 90.0 %, Accs: 63.660 %, 99.167 %, Uncs: 0.000 %, 99.917 %, IoUs: 47.770 %, 98.608 %, Freqs: 100.000 %, 3.600 %, Top-5: 87.140 %, Brier: 0.505, ECE: 13.237 %, ECE±: -13.237 %\n"
     ]
    },
    {
     "data": {
      "application/vnd.jupyter.widget-view+json": {
       "model_id": "b9ca78400c4d42b2a5c5d9212e4580e6",
       "version_major": 2,
       "version_minor": 0
      },
      "text/plain": [
       "Batches-per-epoch=521:   0%|          | 0/521 [00:00<?, ?it/s]"
      ]
     },
     "metadata": {},
     "output_type": "display_data"
    },
    {
     "name": "stdout",
     "output_type": "stream",
     "text": [
      "NLL: 1.5320, Cutoffs: 0.0 %, 90.0 %, Accs: 63.350 %, 99.444 %, Uncs: 0.000 %, 99.945 %, IoUs: 47.452 %, 99.401 %, Freqs: 100.000 %, 3.600 %, Top-5: 86.880 %, Brier: 0.505, ECE: 12.665 %, ECE±: -12.665 %\n"
     ]
    },
    {
     "data": {
      "application/vnd.jupyter.widget-view+json": {
       "model_id": "c874a5c78ed04e40a60b0df1fe580a2e",
       "version_major": 2,
       "version_minor": 0
      },
      "text/plain": [
       "Batches-per-epoch=521:   0%|          | 0/521 [00:00<?, ?it/s]"
      ]
     },
     "metadata": {},
     "output_type": "display_data"
    },
    {
     "name": "stdout",
     "output_type": "stream",
     "text": [
      "NLL: 1.5207, Cutoffs: 0.0 %, 90.0 %, Accs: 63.710 %, 99.377 %, Uncs: 0.000 %, 99.945 %, IoUs: 47.642 %, 99.059 %, Freqs: 100.000 %, 3.210 %, Top-5: 87.450 %, Brier: 0.504, ECE: 13.343 %, ECE±: -13.343 %\n"
     ]
    },
    {
     "data": {
      "application/vnd.jupyter.widget-view+json": {
       "model_id": "2b0a3c15602b43208185af4cb6dfd32f",
       "version_major": 2,
       "version_minor": 0
      },
      "text/plain": [
       "Batches-per-epoch=521:   0%|          | 0/521 [00:00<?, ?it/s]"
      ]
     },
     "metadata": {},
     "output_type": "display_data"
    },
    {
     "name": "stdout",
     "output_type": "stream",
     "text": [
      "NLL: 1.5589, Cutoffs: 0.0 %, 90.0 %, Accs: 62.790 %, 99.324 %, Uncs: 0.000 %, 99.946 %, IoUs: 46.956 %, 99.267 %, Freqs: 100.000 %, 2.960 %, Top-5: 86.420 %, Brier: 0.513, ECE: 13.193 %, ECE±: -13.193 %\n"
     ]
    },
    {
     "data": {
      "application/vnd.jupyter.widget-view+json": {
       "model_id": "4669fdef796f4123b40c45ce39c1c05a",
       "version_major": 2,
       "version_minor": 0
      },
      "text/plain": [
       "Batches-per-epoch=521:   0%|          | 0/521 [00:00<?, ?it/s]"
      ]
     },
     "metadata": {},
     "output_type": "display_data"
    },
    {
     "name": "stdout",
     "output_type": "stream",
     "text": [
      "NLL: 1.4987, Cutoffs: 0.0 %, 90.0 %, Accs: 64.320 %, 98.319 %, Uncs: 0.000 %, 99.832 %, IoUs: 48.391 %, 95.924 %, Freqs: 100.000 %, 3.570 %, Top-5: 87.240 %, Brier: 0.497, ECE: 13.348 %, ECE±: -13.312 %\n"
     ]
    },
    {
     "data": {
      "application/vnd.jupyter.widget-view+json": {
       "model_id": "7918d9d0fa6543baa49de1c2bc7bd14f",
       "version_major": 2,
       "version_minor": 0
      },
      "text/plain": [
       "Batches-per-epoch=521:   0%|          | 0/521 [00:00<?, ?it/s]"
      ]
     },
     "metadata": {},
     "output_type": "display_data"
    },
    {
     "name": "stdout",
     "output_type": "stream",
     "text": [
      "NLL: 1.5454, Cutoffs: 0.0 %, 90.0 %, Accs: 63.170 %, 100.000 %, Uncs: 0.000 %, 100.000 %, IoUs: 47.226 %, 100.000 %, Freqs: 100.000 %, 3.340 %, Top-5: 87.120 %, Brier: 0.507, ECE: 12.753 %, ECE±: -12.753 %\n"
     ]
    },
    {
     "data": {
      "application/vnd.jupyter.widget-view+json": {
       "model_id": "4b54571df32344ca8418ef2dca1ab895",
       "version_major": 2,
       "version_minor": 0
      },
      "text/plain": [
       "Batches-per-epoch=521:   0%|          | 0/521 [00:00<?, ?it/s]"
      ]
     },
     "metadata": {},
     "output_type": "display_data"
    },
    {
     "name": "stdout",
     "output_type": "stream",
     "text": [
      "NLL: 1.5635, Cutoffs: 0.0 %, 90.0 %, Accs: 63.180 %, 99.558 %, Uncs: 0.000 %, 99.973 %, IoUs: 47.042 %, 98.974 %, Freqs: 100.000 %, 2.260 %, Top-5: 86.980 %, Brier: 0.516, ECE: 14.749 %, ECE±: -14.749 %\n"
     ]
    },
    {
     "data": {
      "application/vnd.jupyter.widget-view+json": {
       "model_id": "53f39d2d211d45489ea8f3092d1dfd51",
       "version_major": 2,
       "version_minor": 0
      },
      "text/plain": [
       "Batches-per-epoch=521:   0%|          | 0/521 [00:00<?, ?it/s]"
      ]
     },
     "metadata": {},
     "output_type": "display_data"
    },
    {
     "name": "stdout",
     "output_type": "stream",
     "text": [
      "NLL: 1.5661, Cutoffs: 0.0 %, 90.0 %, Accs: 62.370 %, 99.379 %, Uncs: 0.000 %, 99.947 %, IoUs: 46.256 %, 98.611 %, Freqs: 100.000 %, 3.220 %, Top-5: 86.240 %, Brier: 0.511, ECE: 12.191 %, ECE±: -12.191 %\n"
     ]
    },
    {
     "data": {
      "application/vnd.jupyter.widget-view+json": {
       "model_id": "f85bc0f982da4c229af12642765a23f5",
       "version_major": 2,
       "version_minor": 0
      },
      "text/plain": [
       "Batches-per-epoch=521:   0%|          | 0/521 [00:00<?, ?it/s]"
      ]
     },
     "metadata": {},
     "output_type": "display_data"
    },
    {
     "name": "stdout",
     "output_type": "stream",
     "text": [
      "NLL: 1.5021, Cutoffs: 0.0 %, 90.0 %, Accs: 63.870 %, 99.707 %, Uncs: 0.000 %, 99.972 %, IoUs: 47.949 %, 98.538 %, Freqs: 100.000 %, 3.410 %, Top-5: 87.380 %, Brier: 0.499, ECE: 13.080 %, ECE±: -13.080 %\n"
     ]
    },
    {
     "data": {
      "application/vnd.jupyter.widget-view+json": {
       "model_id": "4489193370554f9ab600b4b60acb643e",
       "version_major": 2,
       "version_minor": 0
      },
      "text/plain": [
       "Batches-per-epoch=521:   0%|          | 0/521 [00:00<?, ?it/s]"
      ]
     },
     "metadata": {},
     "output_type": "display_data"
    },
    {
     "name": "stdout",
     "output_type": "stream",
     "text": [
      "NLL: 1.4963, Cutoffs: 0.0 %, 90.0 %, Accs: 64.170 %, 99.160 %, Uncs: 0.000 %, 99.916 %, IoUs: 48.287 %, 98.771 %, Freqs: 100.000 %, 3.570 %, Top-5: 87.340 %, Brier: 0.496, ECE: 12.739 %, ECE±: -12.739 %\n"
     ]
    },
    {
     "data": {
      "application/vnd.jupyter.widget-view+json": {
       "model_id": "ff159184416149179656f234ae6fc4a5",
       "version_major": 2,
       "version_minor": 0
      },
      "text/plain": [
       "Batches-per-epoch=521:   0%|          | 0/521 [00:00<?, ?it/s]"
      ]
     },
     "metadata": {},
     "output_type": "display_data"
    },
    {
     "name": "stdout",
     "output_type": "stream",
     "text": [
      "NLL: 1.5242, Cutoffs: 0.0 %, 90.0 %, Accs: 63.740 %, 98.596 %, Uncs: 0.000 %, 99.862 %, IoUs: 47.799 %, 95.914 %, Freqs: 100.000 %, 3.560 %, Top-5: 86.920 %, Brier: 0.501, ECE: 13.155 %, ECE±: -13.155 %\n"
     ]
    },
    {
     "data": {
      "application/vnd.jupyter.widget-view+json": {
       "model_id": "eadad61345d34fb290711bf7324e089f",
       "version_major": 2,
       "version_minor": 0
      },
      "text/plain": [
       "Batches-per-epoch=521:   0%|          | 0/521 [00:00<?, ?it/s]"
      ]
     },
     "metadata": {},
     "output_type": "display_data"
    },
    {
     "name": "stdout",
     "output_type": "stream",
     "text": [
      "NLL: 1.5247, Cutoffs: 0.0 %, 90.0 %, Accs: 63.970 %, 99.267 %, Uncs: 0.000 %, 99.944 %, IoUs: 48.162 %, 98.982 %, Freqs: 100.000 %, 2.730 %, Top-5: 87.000 %, Brier: 0.503, ECE: 14.079 %, ECE±: -14.079 %\n"
     ]
    },
    {
     "data": {
      "application/vnd.jupyter.widget-view+json": {
       "model_id": "025702fb0fe84a5f95c622ce8d237007",
       "version_major": 2,
       "version_minor": 0
      },
      "text/plain": [
       "Batches-per-epoch=521:   0%|          | 0/521 [00:00<?, ?it/s]"
      ]
     },
     "metadata": {},
     "output_type": "display_data"
    },
    {
     "name": "stdout",
     "output_type": "stream",
     "text": [
      "NLL: 1.5098, Cutoffs: 0.0 %, 90.0 %, Accs: 64.200 %, 99.683 %, Uncs: 0.000 %, 99.972 %, IoUs: 48.392 %, 99.174 %, Freqs: 100.000 %, 3.150 %, Top-5: 87.190 %, Brier: 0.498, ECE: 12.835 %, ECE±: -12.835 %\n"
     ]
    },
    {
     "data": {
      "application/vnd.jupyter.widget-view+json": {
       "model_id": "ecaa028dd0f248389c19e3a946779663",
       "version_major": 2,
       "version_minor": 0
      },
      "text/plain": [
       "Batches-per-epoch=521:   0%|          | 0/521 [00:00<?, ?it/s]"
      ]
     },
     "metadata": {},
     "output_type": "display_data"
    },
    {
     "name": "stdout",
     "output_type": "stream",
     "text": [
      "NLL: 1.5264, Cutoffs: 0.0 %, 90.0 %, Accs: 63.490 %, 99.583 %, Uncs: 0.000 %, 99.973 %, IoUs: 47.326 %, 99.491 %, Freqs: 100.000 %, 2.400 %, Top-5: 87.050 %, Brier: 0.505, ECE: 13.786 %, ECE±: -13.786 %\n"
     ]
    },
    {
     "data": {
      "application/vnd.jupyter.widget-view+json": {
       "model_id": "17f795ef2c7c4b08950d4dc750de61ce",
       "version_major": 2,
       "version_minor": 0
      },
      "text/plain": [
       "Batches-per-epoch=521:   0%|          | 0/521 [00:00<?, ?it/s]"
      ]
     },
     "metadata": {},
     "output_type": "display_data"
    },
    {
     "name": "stdout",
     "output_type": "stream",
     "text": [
      "NLL: 1.5488, Cutoffs: 0.0 %, 90.0 %, Accs: 63.420 %, 100.000 %, Uncs: 0.000 %, 100.000 %, IoUs: 47.657 %, 100.000 %, Freqs: 100.000 %, 2.710 %, Top-5: 86.800 %, Brier: 0.504, ECE: 12.297 %, ECE±: -12.297 %\n"
     ]
    },
    {
     "data": {
      "application/vnd.jupyter.widget-view+json": {
       "model_id": "c6c85d523aae426d9da79abcbcd9e6fc",
       "version_major": 2,
       "version_minor": 0
      },
      "text/plain": [
       "Batches-per-epoch=521:   0%|          | 0/521 [00:00<?, ?it/s]"
      ]
     },
     "metadata": {},
     "output_type": "display_data"
    },
    {
     "name": "stdout",
     "output_type": "stream",
     "text": [
      "NLL: 1.5095, Cutoffs: 0.0 %, 90.0 %, Accs: 64.290 %, 99.679 %, Uncs: 0.000 %, 99.972 %, IoUs: 48.294 %, 99.444 %, Freqs: 100.000 %, 3.120 %, Top-5: 87.210 %, Brier: 0.498, ECE: 13.631 %, ECE±: -13.631 %\n"
     ]
    },
    {
     "data": {
      "application/vnd.jupyter.widget-view+json": {
       "model_id": "c5b8a70d113a4b718eaa95290eef5a65",
       "version_major": 2,
       "version_minor": 0
      },
      "text/plain": [
       "Batches-per-epoch=521:   0%|          | 0/521 [00:00<?, ?it/s]"
      ]
     },
     "metadata": {},
     "output_type": "display_data"
    },
    {
     "name": "stdout",
     "output_type": "stream",
     "text": [
      "NLL: 1.5279, Cutoffs: 0.0 %, 90.0 %, Accs: 63.320 %, 99.662 %, Uncs: 0.000 %, 99.973 %, IoUs: 47.321 %, 99.279 %, Freqs: 100.000 %, 2.960 %, Top-5: 86.840 %, Brier: 0.503, ECE: 12.839 %, ECE±: -12.839 %\n"
     ]
    },
    {
     "data": {
      "application/vnd.jupyter.widget-view+json": {
       "model_id": "62bd8c422c764560a9ce275f1da92fc1",
       "version_major": 2,
       "version_minor": 0
      },
      "text/plain": [
       "Batches-per-epoch=521:   0%|          | 0/521 [00:00<?, ?it/s]"
      ]
     },
     "metadata": {},
     "output_type": "display_data"
    },
    {
     "name": "stdout",
     "output_type": "stream",
     "text": [
      "NLL: 1.5184, Cutoffs: 0.0 %, 90.0 %, Accs: 63.790 %, 98.058 %, Uncs: 0.000 %, 99.834 %, IoUs: 47.831 %, 95.049 %, Freqs: 100.000 %, 3.090 %, Top-5: 87.120 %, Brier: 0.498, ECE: 12.409 %, ECE±: -12.409 %\n"
     ]
    },
    {
     "data": {
      "application/vnd.jupyter.widget-view+json": {
       "model_id": "b82ead716d7a4691b5954d708af72162",
       "version_major": 2,
       "version_minor": 0
      },
      "text/plain": [
       "Batches-per-epoch=521:   0%|          | 0/521 [00:00<?, ?it/s]"
      ]
     },
     "metadata": {},
     "output_type": "display_data"
    },
    {
     "name": "stdout",
     "output_type": "stream",
     "text": [
      "NLL: 1.5175, Cutoffs: 0.0 %, 90.0 %, Accs: 64.020 %, 99.656 %, Uncs: 0.000 %, 99.972 %, IoUs: 47.857 %, 99.671 %, Freqs: 100.000 %, 2.910 %, Top-5: 87.050 %, Brier: 0.497, ECE: 12.629 %, ECE±: -12.629 %\n"
     ]
    },
    {
     "data": {
      "application/vnd.jupyter.widget-view+json": {
       "model_id": "ce82b2f384fd485db2fd41af303d2880",
       "version_major": 2,
       "version_minor": 0
      },
      "text/plain": [
       "Batches-per-epoch=521:   0%|          | 0/521 [00:00<?, ?it/s]"
      ]
     },
     "metadata": {},
     "output_type": "display_data"
    },
    {
     "name": "stdout",
     "output_type": "stream",
     "text": [
      "NLL: 1.5460, Cutoffs: 0.0 %, 90.0 %, Accs: 63.530 %, 99.667 %, Uncs: 0.000 %, 99.973 %, IoUs: 47.413 %, 98.750 %, Freqs: 100.000 %, 3.000 %, Top-5: 86.350 %, Brier: 0.504, ECE: 12.701 %, ECE±: -12.701 %\n"
     ]
    },
    {
     "data": {
      "application/vnd.jupyter.widget-view+json": {
       "model_id": "d533080ff0ac4a82880135d3f2199806",
       "version_major": 2,
       "version_minor": 0
      },
      "text/plain": [
       "Batches-per-epoch=521:   0%|          | 0/521 [00:00<?, ?it/s]"
      ]
     },
     "metadata": {},
     "output_type": "display_data"
    },
    {
     "name": "stdout",
     "output_type": "stream",
     "text": [
      "NLL: 1.5085, Cutoffs: 0.0 %, 90.0 %, Accs: 64.000 %, 98.611 %, Uncs: 0.000 %, 99.889 %, IoUs: 47.903 %, 95.776 %, Freqs: 100.000 %, 2.880 %, Top-5: 87.450 %, Brier: 0.495, ECE: 13.001 %, ECE±: -13.001 %\n"
     ]
    },
    {
     "data": {
      "application/vnd.jupyter.widget-view+json": {
       "model_id": "7296c64857d84bcab453731762e1abf2",
       "version_major": 2,
       "version_minor": 0
      },
      "text/plain": [
       "Batches-per-epoch=521:   0%|          | 0/521 [00:00<?, ?it/s]"
      ]
     },
     "metadata": {},
     "output_type": "display_data"
    },
    {
     "name": "stdout",
     "output_type": "stream",
     "text": [
      "NLL: 1.5069, Cutoffs: 0.0 %, 90.0 %, Accs: 64.330 %, 99.293 %, Uncs: 0.000 %, 99.944 %, IoUs: 48.368 %, 98.434 %, Freqs: 100.000 %, 2.830 %, Top-5: 87.210 %, Brier: 0.494, ECE: 13.107 %, ECE±: -13.107 %\n"
     ]
    },
    {
     "data": {
      "application/vnd.jupyter.widget-view+json": {
       "model_id": "46ffe91cd05e4a2fae6fd1f8114d48e8",
       "version_major": 2,
       "version_minor": 0
      },
      "text/plain": [
       "Batches-per-epoch=521:   0%|          | 0/521 [00:00<?, ?it/s]"
      ]
     },
     "metadata": {},
     "output_type": "display_data"
    },
    {
     "name": "stdout",
     "output_type": "stream",
     "text": [
      "NLL: 1.5032, Cutoffs: 0.0 %, 90.0 %, Accs: 64.440 %, 99.394 %, Uncs: 0.000 %, 99.944 %, IoUs: 48.561 %, 98.977 %, Freqs: 100.000 %, 3.300 %, Top-5: 87.020 %, Brier: 0.493, ECE: 12.573 %, ECE±: -12.504 %\n"
     ]
    },
    {
     "data": {
      "application/vnd.jupyter.widget-view+json": {
       "model_id": "6ecf6e9f316d49f5b0897e386dea98dd",
       "version_major": 2,
       "version_minor": 0
      },
      "text/plain": [
       "Batches-per-epoch=521:   0%|          | 0/521 [00:00<?, ?it/s]"
      ]
     },
     "metadata": {},
     "output_type": "display_data"
    },
    {
     "name": "stdout",
     "output_type": "stream",
     "text": [
      "NLL: 1.5115, Cutoffs: 0.0 %, 90.0 %, Accs: 63.960 %, 99.042 %, Uncs: 0.000 %, 99.917 %, IoUs: 47.907 %, 97.000 %, Freqs: 100.000 %, 3.130 %, Top-5: 87.020 %, Brier: 0.495, ECE: 12.348 %, ECE±: -12.348 %\n"
     ]
    },
    {
     "data": {
      "application/vnd.jupyter.widget-view+json": {
       "model_id": "1967d33363c74896b5ced6c8e1c43f5c",
       "version_major": 2,
       "version_minor": 0
      },
      "text/plain": [
       "Batches-per-epoch=521:   0%|          | 0/521 [00:00<?, ?it/s]"
      ]
     },
     "metadata": {},
     "output_type": "display_data"
    },
    {
     "name": "stdout",
     "output_type": "stream",
     "text": [
      "NLL: 1.5082, Cutoffs: 0.0 %, 90.0 %, Accs: 64.660 %, 98.997 %, Uncs: 0.000 %, 99.915 %, IoUs: 48.773 %, 97.113 %, Freqs: 100.000 %, 2.990 %, Top-5: 87.220 %, Brier: 0.493, ECE: 12.919 %, ECE±: -12.919 %\n"
     ]
    },
    {
     "data": {
      "application/vnd.jupyter.widget-view+json": {
       "model_id": "0acda95a904944498186e3003dac9dfb",
       "version_major": 2,
       "version_minor": 0
      },
      "text/plain": [
       "Batches-per-epoch=521:   0%|          | 0/521 [00:00<?, ?it/s]"
      ]
     },
     "metadata": {},
     "output_type": "display_data"
    },
    {
     "name": "stdout",
     "output_type": "stream",
     "text": [
      "NLL: 1.4904, Cutoffs: 0.0 %, 90.0 %, Accs: 64.660 %, 98.824 %, Uncs: 0.000 %, 99.915 %, IoUs: 48.822 %, 96.815 %, Freqs: 100.000 %, 2.550 %, Top-5: 87.570 %, Brier: 0.488, ECE: 12.253 %, ECE±: -12.172 %\n"
     ]
    },
    {
     "data": {
      "application/vnd.jupyter.widget-view+json": {
       "model_id": "0626638f57614eebabc7778d92b73bc5",
       "version_major": 2,
       "version_minor": 0
      },
      "text/plain": [
       "Batches-per-epoch=521:   0%|          | 0/521 [00:00<?, ?it/s]"
      ]
     },
     "metadata": {},
     "output_type": "display_data"
    },
    {
     "name": "stdout",
     "output_type": "stream",
     "text": [
      "NLL: 1.4845, Cutoffs: 0.0 %, 90.0 %, Accs: 64.890 %, 98.246 %, Uncs: 0.000 %, 99.858 %, IoUs: 48.880 %, 95.435 %, Freqs: 100.000 %, 2.850 %, Top-5: 87.420 %, Brier: 0.486, ECE: 12.342 %, ECE±: -12.342 %\n"
     ]
    },
    {
     "data": {
      "application/vnd.jupyter.widget-view+json": {
       "model_id": "7f1db7b550a24f5cb430bd3f9594e495",
       "version_major": 2,
       "version_minor": 0
      },
      "text/plain": [
       "Batches-per-epoch=521:   0%|          | 0/521 [00:00<?, ?it/s]"
      ]
     },
     "metadata": {},
     "output_type": "display_data"
    },
    {
     "name": "stdout",
     "output_type": "stream",
     "text": [
      "NLL: 1.4789, Cutoffs: 0.0 %, 90.0 %, Accs: 65.010 %, 100.000 %, Uncs: 0.000 %, 100.000 %, IoUs: 49.144 %, 100.000 %, Freqs: 100.000 %, 2.560 %, Top-5: 87.670 %, Brier: 0.486, ECE: 13.225 %, ECE±: -13.225 %\n"
     ]
    },
    {
     "data": {
      "application/vnd.jupyter.widget-view+json": {
       "model_id": "572e49e097b04e46aaacfff478d4df8e",
       "version_major": 2,
       "version_minor": 0
      },
      "text/plain": [
       "Batches-per-epoch=521:   0%|          | 0/521 [00:00<?, ?it/s]"
      ]
     },
     "metadata": {},
     "output_type": "display_data"
    },
    {
     "name": "stdout",
     "output_type": "stream",
     "text": [
      "NLL: 1.4598, Cutoffs: 0.0 %, 90.0 %, Accs: 65.740 %, 99.614 %, Uncs: 0.000 %, 99.971 %, IoUs: 49.854 %, 99.082 %, Freqs: 100.000 %, 2.590 %, Top-5: 87.990 %, Brier: 0.480, ECE: 13.786 %, ECE±: -13.786 %\n"
     ]
    },
    {
     "data": {
      "application/vnd.jupyter.widget-view+json": {
       "model_id": "5b2ba3da96e944efaa86226c1dddbc99",
       "version_major": 2,
       "version_minor": 0
      },
      "text/plain": [
       "Batches-per-epoch=521:   0%|          | 0/521 [00:00<?, ?it/s]"
      ]
     },
     "metadata": {},
     "output_type": "display_data"
    },
    {
     "name": "stdout",
     "output_type": "stream",
     "text": [
      "NLL: 1.4706, Cutoffs: 0.0 %, 90.0 %, Accs: 65.410 %, 99.630 %, Uncs: 0.000 %, 99.971 %, IoUs: 49.584 %, 98.571 %, Freqs: 100.000 %, 2.700 %, Top-5: 87.660 %, Brier: 0.482, ECE: 13.039 %, ECE±: -13.039 %\n"
     ]
    },
    {
     "data": {
      "application/vnd.jupyter.widget-view+json": {
       "model_id": "1e8437ae8c63444c827f315c37e47e22",
       "version_major": 2,
       "version_minor": 0
      },
      "text/plain": [
       "Batches-per-epoch=521:   0%|          | 0/521 [00:00<?, ?it/s]"
      ]
     },
     "metadata": {},
     "output_type": "display_data"
    },
    {
     "name": "stdout",
     "output_type": "stream",
     "text": [
      "NLL: 1.4891, Cutoffs: 0.0 %, 90.0 %, Accs: 64.630 %, 98.819 %, Uncs: 0.000 %, 99.915 %, IoUs: 48.852 %, 98.093 %, Freqs: 100.000 %, 2.540 %, Top-5: 87.730 %, Brier: 0.488, ECE: 12.362 %, ECE±: -12.362 %\n"
     ]
    },
    {
     "data": {
      "application/vnd.jupyter.widget-view+json": {
       "model_id": "a3e9620606b9422a99c4d6d9b001c4e6",
       "version_major": 2,
       "version_minor": 0
      },
      "text/plain": [
       "Batches-per-epoch=521:   0%|          | 0/521 [00:00<?, ?it/s]"
      ]
     },
     "metadata": {},
     "output_type": "display_data"
    },
    {
     "name": "stdout",
     "output_type": "stream",
     "text": [
      "NLL: 1.4720, Cutoffs: 0.0 %, 90.0 %, Accs: 64.880 %, 98.148 %, Uncs: 0.000 %, 99.858 %, IoUs: 49.142 %, 95.702 %, Freqs: 100.000 %, 2.700 %, Top-5: 87.440 %, Brier: 0.484, ECE: 12.293 %, ECE±: -12.293 %\n"
     ]
    },
    {
     "data": {
      "application/vnd.jupyter.widget-view+json": {
       "model_id": "2f7d6b7710ef46cf87399e53a33724bd",
       "version_major": 2,
       "version_minor": 0
      },
      "text/plain": [
       "Batches-per-epoch=521:   0%|          | 0/521 [00:00<?, ?it/s]"
      ]
     },
     "metadata": {},
     "output_type": "display_data"
    },
    {
     "name": "stdout",
     "output_type": "stream",
     "text": [
      "NLL: 1.4634, Cutoffs: 0.0 %, 90.0 %, Accs: 65.450 %, 99.267 %, Uncs: 0.000 %, 99.942 %, IoUs: 49.538 %, 98.986 %, Freqs: 100.000 %, 2.730 %, Top-5: 87.850 %, Brier: 0.480, ECE: 13.191 %, ECE±: -13.191 %\n"
     ]
    },
    {
     "data": {
      "application/vnd.jupyter.widget-view+json": {
       "model_id": "86498471790e47ed8feb1caabe8cc0bc",
       "version_major": 2,
       "version_minor": 0
      },
      "text/plain": [
       "Batches-per-epoch=521:   0%|          | 0/521 [00:00<?, ?it/s]"
      ]
     },
     "metadata": {},
     "output_type": "display_data"
    },
    {
     "name": "stdout",
     "output_type": "stream",
     "text": [
      "NLL: 1.4349, Cutoffs: 0.0 %, 90.0 %, Accs: 66.180 %, 99.045 %, Uncs: 0.000 %, 99.911 %, IoUs: 50.415 %, 96.880 %, Freqs: 100.000 %, 3.140 %, Top-5: 87.950 %, Brier: 0.472, ECE: 12.458 %, ECE±: -12.458 %\n"
     ]
    },
    {
     "data": {
      "application/vnd.jupyter.widget-view+json": {
       "model_id": "918d574a422c4fec9caf3eef5bd15081",
       "version_major": 2,
       "version_minor": 0
      },
      "text/plain": [
       "Batches-per-epoch=521:   0%|          | 0/521 [00:00<?, ?it/s]"
      ]
     },
     "metadata": {},
     "output_type": "display_data"
    },
    {
     "name": "stdout",
     "output_type": "stream",
     "text": [
      "NLL: 1.4621, Cutoffs: 0.0 %, 90.0 %, Accs: 65.300 %, 100.000 %, Uncs: 0.000 %, 100.000 %, IoUs: 49.456 %, 100.000 %, Freqs: 100.000 %, 2.620 %, Top-5: 87.690 %, Brier: 0.482, ECE: 12.917 %, ECE±: -12.917 %\n"
     ]
    },
    {
     "data": {
      "application/vnd.jupyter.widget-view+json": {
       "model_id": "2b077e20f0464f41864bf337ecbd66d6",
       "version_major": 2,
       "version_minor": 0
      },
      "text/plain": [
       "Batches-per-epoch=521:   0%|          | 0/521 [00:00<?, ?it/s]"
      ]
     },
     "metadata": {},
     "output_type": "display_data"
    },
    {
     "name": "stdout",
     "output_type": "stream",
     "text": [
      "NLL: 1.4950, Cutoffs: 0.0 %, 90.0 %, Accs: 64.430 %, 98.667 %, Uncs: 0.000 %, 99.916 %, IoUs: 48.611 %, 97.460 %, Freqs: 100.000 %, 2.250 %, Top-5: 87.420 %, Brier: 0.489, ECE: 12.367 %, ECE±: -12.367 %\n"
     ]
    },
    {
     "data": {
      "application/vnd.jupyter.widget-view+json": {
       "model_id": "9c565ef5a3e54aaca7154ac396c64722",
       "version_major": 2,
       "version_minor": 0
      },
      "text/plain": [
       "Batches-per-epoch=521:   0%|          | 0/521 [00:00<?, ?it/s]"
      ]
     },
     "metadata": {},
     "output_type": "display_data"
    },
    {
     "name": "stdout",
     "output_type": "stream",
     "text": [
      "NLL: 1.4563, Cutoffs: 0.0 %, 90.0 %, Accs: 65.520 %, 99.649 %, Uncs: 0.000 %, 99.971 %, IoUs: 49.927 %, 98.843 %, Freqs: 100.000 %, 2.850 %, Top-5: 87.780 %, Brier: 0.477, ECE: 12.178 %, ECE±: -12.178 %\n"
     ]
    },
    {
     "data": {
      "application/vnd.jupyter.widget-view+json": {
       "model_id": "2156ffbd25d34feb80c8588091901f91",
       "version_major": 2,
       "version_minor": 0
      },
      "text/plain": [
       "Batches-per-epoch=521:   0%|          | 0/521 [00:00<?, ?it/s]"
      ]
     },
     "metadata": {},
     "output_type": "display_data"
    },
    {
     "name": "stdout",
     "output_type": "stream",
     "text": [
      "NLL: 1.4758, Cutoffs: 0.0 %, 90.0 %, Accs: 64.920 %, 98.502 %, Uncs: 0.000 %, 99.886 %, IoUs: 49.180 %, 97.394 %, Freqs: 100.000 %, 2.670 %, Top-5: 87.840 %, Brier: 0.484, ECE: 12.116 %, ECE±: -12.116 %\n"
     ]
    },
    {
     "data": {
      "application/vnd.jupyter.widget-view+json": {
       "model_id": "011c6f9f6ba344759564d6604b4ff874",
       "version_major": 2,
       "version_minor": 0
      },
      "text/plain": [
       "Batches-per-epoch=521:   0%|          | 0/521 [00:00<?, ?it/s]"
      ]
     },
     "metadata": {},
     "output_type": "display_data"
    },
    {
     "name": "stdout",
     "output_type": "stream",
     "text": [
      "NLL: 1.4930, Cutoffs: 0.0 %, 90.0 %, Accs: 65.290 %, 98.165 %, Uncs: 0.000 %, 99.885 %, IoUs: 49.350 %, 96.526 %, Freqs: 100.000 %, 2.180 %, Top-5: 87.450 %, Brier: 0.486, ECE: 12.618 %, ECE±: -12.618 %\n"
     ]
    },
    {
     "data": {
      "application/vnd.jupyter.widget-view+json": {
       "model_id": "e16009f6d1394738bae1f56544eff5d7",
       "version_major": 2,
       "version_minor": 0
      },
      "text/plain": [
       "Batches-per-epoch=521:   0%|          | 0/521 [00:00<?, ?it/s]"
      ]
     },
     "metadata": {},
     "output_type": "display_data"
    },
    {
     "name": "stdout",
     "output_type": "stream",
     "text": [
      "NLL: 1.4899, Cutoffs: 0.0 %, 90.0 %, Accs: 64.580 %, 99.617 %, Uncs: 0.000 %, 99.972 %, IoUs: 48.596 %, 99.238 %, Freqs: 100.000 %, 2.610 %, Top-5: 87.240 %, Brier: 0.486, ECE: 11.700 %, ECE±: -11.700 %\n"
     ]
    },
    {
     "data": {
      "application/vnd.jupyter.widget-view+json": {
       "model_id": "0e2b55f00a1e4f188d880044edd6bd52",
       "version_major": 2,
       "version_minor": 0
      },
      "text/plain": [
       "Batches-per-epoch=521:   0%|          | 0/521 [00:00<?, ?it/s]"
      ]
     },
     "metadata": {},
     "output_type": "display_data"
    },
    {
     "name": "stdout",
     "output_type": "stream",
     "text": [
      "NLL: 1.4664, Cutoffs: 0.0 %, 90.0 %, Accs: 65.430 %, 98.864 %, Uncs: 0.000 %, 99.913 %, IoUs: 49.797 %, 97.341 %, Freqs: 100.000 %, 2.640 %, Top-5: 87.440 %, Brier: 0.477, ECE: 11.881 %, ECE±: -11.881 %\n"
     ]
    },
    {
     "data": {
      "application/vnd.jupyter.widget-view+json": {
       "model_id": "343c32f9c8894205bcedb3bea46f5c96",
       "version_major": 2,
       "version_minor": 0
      },
      "text/plain": [
       "Batches-per-epoch=521:   0%|          | 0/521 [00:00<?, ?it/s]"
      ]
     },
     "metadata": {},
     "output_type": "display_data"
    },
    {
     "name": "stdout",
     "output_type": "stream",
     "text": [
      "NLL: 1.4528, Cutoffs: 0.0 %, 90.0 %, Accs: 65.870 %, 99.254 %, Uncs: 0.000 %, 99.941 %, IoUs: 50.134 %, 98.829 %, Freqs: 100.000 %, 2.680 %, Top-5: 87.970 %, Brier: 0.476, ECE: 12.734 %, ECE±: -12.722 %\n"
     ]
    },
    {
     "data": {
      "application/vnd.jupyter.widget-view+json": {
       "model_id": "9ea3c983d05b4f4db38453325272afaa",
       "version_major": 2,
       "version_minor": 0
      },
      "text/plain": [
       "Batches-per-epoch=521:   0%|          | 0/521 [00:00<?, ?it/s]"
      ]
     },
     "metadata": {},
     "output_type": "display_data"
    },
    {
     "name": "stdout",
     "output_type": "stream",
     "text": [
      "NLL: 1.4789, Cutoffs: 0.0 %, 90.0 %, Accs: 65.310 %, 99.174 %, Uncs: 0.000 %, 99.942 %, IoUs: 49.632 %, 97.464 %, Freqs: 100.000 %, 2.420 %, Top-5: 87.920 %, Brier: 0.482, ECE: 12.421 %, ECE±: -12.421 %\n"
     ]
    },
    {
     "data": {
      "application/vnd.jupyter.widget-view+json": {
       "model_id": "b214829d6e3f49a9aaa187db97d96e4d",
       "version_major": 2,
       "version_minor": 0
      },
      "text/plain": [
       "Batches-per-epoch=521:   0%|          | 0/521 [00:00<?, ?it/s]"
      ]
     },
     "metadata": {},
     "output_type": "display_data"
    },
    {
     "name": "stdout",
     "output_type": "stream",
     "text": [
      "NLL: 1.4747, Cutoffs: 0.0 %, 90.0 %, Accs: 65.650 %, 99.111 %, Uncs: 0.000 %, 99.942 %, IoUs: 49.958 %, 98.502 %, Freqs: 100.000 %, 2.250 %, Top-5: 87.690 %, Brier: 0.481, ECE: 13.006 %, ECE±: -13.006 %\n"
     ]
    },
    {
     "data": {
      "application/vnd.jupyter.widget-view+json": {
       "model_id": "412dba4fc8474ed1a011b3d320059f4f",
       "version_major": 2,
       "version_minor": 0
      },
      "text/plain": [
       "Batches-per-epoch=521:   0%|          | 0/521 [00:00<?, ?it/s]"
      ]
     },
     "metadata": {},
     "output_type": "display_data"
    },
    {
     "name": "stdout",
     "output_type": "stream",
     "text": [
      "NLL: 1.4465, Cutoffs: 0.0 %, 90.0 %, Accs: 65.880 %, 99.065 %, Uncs: 0.000 %, 99.941 %, IoUs: 50.241 %, 97.637 %, Freqs: 100.000 %, 2.140 %, Top-5: 88.300 %, Brier: 0.476, ECE: 13.117 %, ECE±: -13.117 %\n"
     ]
    },
    {
     "data": {
      "application/vnd.jupyter.widget-view+json": {
       "model_id": "dc90cc95e47c4f348ada8c4c1cb7aecf",
       "version_major": 2,
       "version_minor": 0
      },
      "text/plain": [
       "Batches-per-epoch=521:   0%|          | 0/521 [00:00<?, ?it/s]"
      ]
     },
     "metadata": {},
     "output_type": "display_data"
    },
    {
     "name": "stdout",
     "output_type": "stream",
     "text": [
      "NLL: 1.4542, Cutoffs: 0.0 %, 90.0 %, Accs: 65.680 %, 98.106 %, Uncs: 0.000 %, 99.854 %, IoUs: 49.783 %, 95.278 %, Freqs: 100.000 %, 2.640 %, Top-5: 87.890 %, Brier: 0.475, ECE: 12.112 %, ECE±: -12.112 %\n"
     ]
    },
    {
     "data": {
      "application/vnd.jupyter.widget-view+json": {
       "model_id": "b188d9fb464542f89612bf03fb647314",
       "version_major": 2,
       "version_minor": 0
      },
      "text/plain": [
       "Batches-per-epoch=521:   0%|          | 0/521 [00:00<?, ?it/s]"
      ]
     },
     "metadata": {},
     "output_type": "display_data"
    },
    {
     "name": "stdout",
     "output_type": "stream",
     "text": [
      "NLL: 1.4719, Cutoffs: 0.0 %, 90.0 %, Accs: 65.620 %, 99.103 %, Uncs: 0.000 %, 99.942 %, IoUs: 49.933 %, 98.598 %, Freqs: 100.000 %, 2.230 %, Top-5: 87.920 %, Brier: 0.483, ECE: 13.786 %, ECE±: -13.786 %\n"
     ]
    },
    {
     "data": {
      "application/vnd.jupyter.widget-view+json": {
       "model_id": "2eccd844cc994bacbbd4241e7224dff8",
       "version_major": 2,
       "version_minor": 0
      },
      "text/plain": [
       "Batches-per-epoch=521:   0%|          | 0/521 [00:00<?, ?it/s]"
      ]
     },
     "metadata": {},
     "output_type": "display_data"
    },
    {
     "name": "stdout",
     "output_type": "stream",
     "text": [
      "NLL: 1.4559, Cutoffs: 0.0 %, 90.0 %, Accs: 65.660 %, 98.319 %, Uncs: 0.000 %, 99.884 %, IoUs: 49.984 %, 95.986 %, Freqs: 100.000 %, 2.380 %, Top-5: 87.960 %, Brier: 0.476, ECE: 12.724 %, ECE±: -12.724 %\n"
     ]
    },
    {
     "data": {
      "application/vnd.jupyter.widget-view+json": {
       "model_id": "0e94d3985d414cbb8862ae222fc173bf",
       "version_major": 2,
       "version_minor": 0
      },
      "text/plain": [
       "Batches-per-epoch=521:   0%|          | 0/521 [00:00<?, ?it/s]"
      ]
     },
     "metadata": {},
     "output_type": "display_data"
    },
    {
     "name": "stdout",
     "output_type": "stream",
     "text": [
      "NLL: 1.4663, Cutoffs: 0.0 %, 90.0 %, Accs: 65.410 %, 98.701 %, Uncs: 0.000 %, 99.913 %, IoUs: 49.737 %, 97.050 %, Freqs: 100.000 %, 2.310 %, Top-5: 87.960 %, Brier: 0.479, ECE: 12.603 %, ECE±: -12.598 %\n"
     ]
    },
    {
     "data": {
      "application/vnd.jupyter.widget-view+json": {
       "model_id": "4779a314e3c74775819d361f44cfab45",
       "version_major": 2,
       "version_minor": 0
      },
      "text/plain": [
       "Batches-per-epoch=521:   0%|          | 0/521 [00:00<?, ?it/s]"
      ]
     },
     "metadata": {},
     "output_type": "display_data"
    },
    {
     "name": "stdout",
     "output_type": "stream",
     "text": [
      "NLL: 1.4436, Cutoffs: 0.0 %, 90.0 %, Accs: 66.350 %, 99.000 %, Uncs: 0.000 %, 99.941 %, IoUs: 50.592 %, 99.028 %, Freqs: 100.000 %, 2.000 %, Top-5: 88.490 %, Brier: 0.476, ECE: 14.304 %, ECE±: -14.304 %\n"
     ]
    },
    {
     "data": {
      "application/vnd.jupyter.widget-view+json": {
       "model_id": "419f9f887d684baf847db6c252e92e2b",
       "version_major": 2,
       "version_minor": 0
      },
      "text/plain": [
       "Batches-per-epoch=521:   0%|          | 0/521 [00:00<?, ?it/s]"
      ]
     },
     "metadata": {},
     "output_type": "display_data"
    },
    {
     "name": "stdout",
     "output_type": "stream",
     "text": [
      "NLL: 1.4801, Cutoffs: 0.0 %, 90.0 %, Accs: 65.180 %, 98.291 %, Uncs: 0.000 %, 99.885 %, IoUs: 49.480 %, 96.385 %, Freqs: 100.000 %, 2.340 %, Top-5: 87.680 %, Brier: 0.481, ECE: 11.691 %, ECE±: -11.691 %\n"
     ]
    },
    {
     "data": {
      "application/vnd.jupyter.widget-view+json": {
       "model_id": "e3550a6fb0314f96950f4108c6446af8",
       "version_major": 2,
       "version_minor": 0
      },
      "text/plain": [
       "Batches-per-epoch=521:   0%|          | 0/521 [00:00<?, ?it/s]"
      ]
     },
     "metadata": {},
     "output_type": "display_data"
    },
    {
     "name": "stdout",
     "output_type": "stream",
     "text": [
      "NLL: 1.4304, Cutoffs: 0.0 %, 90.0 %, Accs: 66.170 %, 98.819 %, Uncs: 0.000 %, 99.911 %, IoUs: 50.621 %, 98.320 %, Freqs: 100.000 %, 2.540 %, Top-5: 88.250 %, Brier: 0.471, ECE: 12.434 %, ECE±: -12.434 %\n"
     ]
    },
    {
     "data": {
      "application/vnd.jupyter.widget-view+json": {
       "model_id": "5fb091adec0e4b9b9c3eda2e576a0d60",
       "version_major": 2,
       "version_minor": 0
      },
      "text/plain": [
       "Batches-per-epoch=521:   0%|          | 0/521 [00:00<?, ?it/s]"
      ]
     },
     "metadata": {},
     "output_type": "display_data"
    },
    {
     "name": "stdout",
     "output_type": "stream",
     "text": [
      "NLL: 1.4546, Cutoffs: 0.0 %, 90.0 %, Accs: 66.460 %, 98.655 %, Uncs: 0.000 %, 99.911 %, IoUs: 50.615 %, 97.121 %, Freqs: 100.000 %, 2.230 %, Top-5: 87.960 %, Brier: 0.474, ECE: 13.064 %, ECE±: -13.064 %\n"
     ]
    },
    {
     "data": {
      "application/vnd.jupyter.widget-view+json": {
       "model_id": "87622dfae9824a70aaf3a2254e292a5c",
       "version_major": 2,
       "version_minor": 0
      },
      "text/plain": [
       "Batches-per-epoch=521:   0%|          | 0/521 [00:00<?, ?it/s]"
      ]
     },
     "metadata": {},
     "output_type": "display_data"
    },
    {
     "name": "stdout",
     "output_type": "stream",
     "text": [
      "NLL: 1.4743, Cutoffs: 0.0 %, 90.0 %, Accs: 65.220 %, 99.592 %, Uncs: 0.000 %, 99.971 %, IoUs: 49.546 %, 99.041 %, Freqs: 100.000 %, 2.450 %, Top-5: 87.750 %, Brier: 0.480, ECE: 11.573 %, ECE±: -11.573 %\n"
     ]
    },
    {
     "data": {
      "application/vnd.jupyter.widget-view+json": {
       "model_id": "3bb367fea3c844159dfe55ce15961fd5",
       "version_major": 2,
       "version_minor": 0
      },
      "text/plain": [
       "Batches-per-epoch=521:   0%|          | 0/521 [00:00<?, ?it/s]"
      ]
     },
     "metadata": {},
     "output_type": "display_data"
    },
    {
     "name": "stdout",
     "output_type": "stream",
     "text": [
      "NLL: 1.4561, Cutoffs: 0.0 %, 90.0 %, Accs: 65.820 %, 98.157 %, Uncs: 0.000 %, 99.883 %, IoUs: 50.018 %, 96.730 %, Freqs: 100.000 %, 2.170 %, Top-5: 87.830 %, Brier: 0.477, ECE: 13.059 %, ECE±: -13.059 %\n"
     ]
    },
    {
     "data": {
      "application/vnd.jupyter.widget-view+json": {
       "model_id": "e4c13f248a774453867370142bc6d4e0",
       "version_major": 2,
       "version_minor": 0
      },
      "text/plain": [
       "Batches-per-epoch=521:   0%|          | 0/521 [00:00<?, ?it/s]"
      ]
     },
     "metadata": {},
     "output_type": "display_data"
    },
    {
     "name": "stdout",
     "output_type": "stream",
     "text": [
      "NLL: 1.4484, Cutoffs: 0.0 %, 90.0 %, Accs: 66.310 %, 99.167 %, Uncs: 0.000 %, 99.941 %, IoUs: 50.622 %, 98.282 %, Freqs: 100.000 %, 2.400 %, Top-5: 87.750 %, Brier: 0.474, ECE: 13.079 %, ECE±: -13.079 %\n"
     ]
    },
    {
     "data": {
      "application/vnd.jupyter.widget-view+json": {
       "model_id": "c8849238be2a446f8154f5434f7b5df8",
       "version_major": 2,
       "version_minor": 0
      },
      "text/plain": [
       "Batches-per-epoch=521:   0%|          | 0/521 [00:00<?, ?it/s]"
      ]
     },
     "metadata": {},
     "output_type": "display_data"
    },
    {
     "name": "stdout",
     "output_type": "stream",
     "text": [
      "NLL: 1.4606, Cutoffs: 0.0 %, 90.0 %, Accs: 66.090 %, 97.768 %, Uncs: 0.000 %, 99.853 %, IoUs: 50.257 %, 96.093 %, Freqs: 100.000 %, 2.240 %, Top-5: 87.790 %, Brier: 0.475, ECE: 12.434 %, ECE±: -12.434 %\n"
     ]
    },
    {
     "data": {
      "application/vnd.jupyter.widget-view+json": {
       "model_id": "583211d6e0fd42ff9e08595a3232aa3d",
       "version_major": 2,
       "version_minor": 0
      },
      "text/plain": [
       "Batches-per-epoch=521:   0%|          | 0/521 [00:00<?, ?it/s]"
      ]
     },
     "metadata": {},
     "output_type": "display_data"
    },
    {
     "name": "stdout",
     "output_type": "stream",
     "text": [
      "NLL: 1.4637, Cutoffs: 0.0 %, 90.0 %, Accs: 66.370 %, 99.512 %, Uncs: 0.000 %, 99.970 %, IoUs: 50.477 %, 99.366 %, Freqs: 100.000 %, 2.050 %, Top-5: 87.460 %, Brier: 0.475, ECE: 12.992 %, ECE±: -12.992 %\n"
     ]
    },
    {
     "data": {
      "application/vnd.jupyter.widget-view+json": {
       "model_id": "b5eccb7c7b184bf6b83607f3fbb0c109",
       "version_major": 2,
       "version_minor": 0
      },
      "text/plain": [
       "Batches-per-epoch=521:   0%|          | 0/521 [00:00<?, ?it/s]"
      ]
     },
     "metadata": {},
     "output_type": "display_data"
    },
    {
     "name": "stdout",
     "output_type": "stream",
     "text": [
      "NLL: 1.4701, Cutoffs: 0.0 %, 90.0 %, Accs: 65.710 %, 99.130 %, Uncs: 0.000 %, 99.942 %, IoUs: 50.079 %, 99.167 %, Freqs: 100.000 %, 2.300 %, Top-5: 87.990 %, Brier: 0.480, ECE: 12.337 %, ECE±: -12.337 %\n"
     ]
    },
    {
     "data": {
      "application/vnd.jupyter.widget-view+json": {
       "model_id": "4668bdd667b84936863e47d4e9c4b266",
       "version_major": 2,
       "version_minor": 0
      },
      "text/plain": [
       "Batches-per-epoch=521:   0%|          | 0/521 [00:00<?, ?it/s]"
      ]
     },
     "metadata": {},
     "output_type": "display_data"
    },
    {
     "name": "stdout",
     "output_type": "stream",
     "text": [
      "NLL: 1.4636, Cutoffs: 0.0 %, 90.0 %, Accs: 65.970 %, 98.404 %, Uncs: 0.000 %, 99.912 %, IoUs: 50.265 %, 97.995 %, Freqs: 100.000 %, 1.880 %, Top-5: 87.930 %, Brier: 0.478, ECE: 13.157 %, ECE±: -13.157 %\n"
     ]
    },
    {
     "data": {
      "application/vnd.jupyter.widget-view+json": {
       "model_id": "61a70edb5d534609804afbe73c79d555",
       "version_major": 2,
       "version_minor": 0
      },
      "text/plain": [
       "Batches-per-epoch=521:   0%|          | 0/521 [00:00<?, ?it/s]"
      ]
     },
     "metadata": {},
     "output_type": "display_data"
    },
    {
     "name": "stdout",
     "output_type": "stream",
     "text": [
      "NLL: 1.4578, Cutoffs: 0.0 %, 90.0 %, Accs: 66.000 %, 100.000 %, Uncs: 0.000 %, 100.000 %, IoUs: 50.194 %, 100.000 %, Freqs: 100.000 %, 2.160 %, Top-5: 87.780 %, Brier: 0.475, ECE: 12.524 %, ECE±: -12.524 %\n"
     ]
    },
    {
     "data": {
      "application/vnd.jupyter.widget-view+json": {
       "model_id": "fb9620496dbd4ba38f068a5d8b2ecc42",
       "version_major": 2,
       "version_minor": 0
      },
      "text/plain": [
       "Batches-per-epoch=521:   0%|          | 0/521 [00:00<?, ?it/s]"
      ]
     },
     "metadata": {},
     "output_type": "display_data"
    },
    {
     "name": "stdout",
     "output_type": "stream",
     "text": [
      "NLL: 1.4738, Cutoffs: 0.0 %, 90.0 %, Accs: 65.590 %, 98.165 %, Uncs: 0.000 %, 99.884 %, IoUs: 49.713 %, 96.786 %, Freqs: 100.000 %, 2.180 %, Top-5: 87.710 %, Brier: 0.478, ECE: 12.176 %, ECE±: -12.176 %\n"
     ]
    },
    {
     "data": {
      "application/vnd.jupyter.widget-view+json": {
       "model_id": "9b233691ae954441937d963f604aa6ae",
       "version_major": 2,
       "version_minor": 0
      },
      "text/plain": [
       "Batches-per-epoch=521:   0%|          | 0/521 [00:00<?, ?it/s]"
      ]
     },
     "metadata": {},
     "output_type": "display_data"
    }
   ],
   "source": [
    "gpu = torch.cuda.is_available()\n",
    "optimizer, train_scheduler = trains.get_optimizer(model, **optim_args)\n",
    "warmup_scheduler = schedulers.WarmupScheduler(optimizer, len(dataset_train) * train_args.get(\"warmup_epochs\", 0))\n",
    "\n",
    "trains.train(model, optimizer,\n",
    "             dataset_train, dataset_test,\n",
    "             train_scheduler, warmup_scheduler,\n",
    "             train_args, val_args, gpu,\n",
    "             writer, \n",
    "             snapshot=-1, \n",
    "             dataset_name=dataset_name, \n",
    "             uid=current_time)  # Set `snapshot=N` to save snapshots every N epochs."
   ]
  },
  {
   "cell_type": "markdown",
   "metadata": {},
   "source": [
    "Save the model:"
   ]
  },
  {
   "cell_type": "code",
   "execution_count": 17,
   "metadata": {},
   "outputs": [],
   "source": [
    "models.save(model, dataset_name, current_time, optimizer=optimizer)"
   ]
  },
  {
   "cell_type": "markdown",
   "metadata": {},
   "source": [
    "## Test"
   ]
  },
  {
   "cell_type": "code",
   "execution_count": 18,
   "metadata": {},
   "outputs": [
    {
     "name": "stdout",
     "output_type": "stream",
     "text": [
      "N: 1, NLL: 1.4183, Cutoffs: 0.0 %, 90.0 %, Accs: 67.240 %, 96.992 %, Uncs: 0.000 %, 99.878 %, IoUs: 51.552 %, 94.262 %, Freqs: 100.000 %, 1.330 %, Top-5: 88.040 %, Brier: 0.458, ECE: 12.532 %, ECE±: -12.532 %\n"
     ]
    }
   ],
   "source": [
    "gpu = torch.cuda.is_available()\n",
    "\n",
    "model = model.cuda() if gpu else model.cpu()\n",
    "metrics_list = []\n",
    "for n_ff in [1]:\n",
    "    print(\"N: %s, \" % n_ff, end=\"\")\n",
    "    *metrics, cal_diag = tests.test(model, n_ff, dataset_test, verbose=False, gpu=gpu)\n",
    "    metrics_list.append([n_ff, *metrics])\n",
    "\n",
    "leaderboard_path = os.path.join(\"leaderboard\", \"logs\", dataset_name, model.name)\n",
    "Path(leaderboard_path).mkdir(parents=True, exist_ok=True)\n",
    "metrics_dir = os.path.join(leaderboard_path, \"%s_%s_%s.csv\" % (dataset_name, model.name, current_time))\n",
    "tests.save_metrics(metrics_dir, metrics_list)"
   ]
  },
  {
   "cell_type": "code",
   "execution_count": 16,
   "metadata": {},
   "outputs": [
    {
     "data": {
      "text/plain": [
       "5.666666666666667"
      ]
     },
     "execution_count": 16,
     "metadata": {},
     "output_type": "execute_result"
    }
   ],
   "source": [
    "85/15"
   ]
  },
  {
   "cell_type": "code",
   "execution_count": null,
   "metadata": {},
   "outputs": [],
   "source": []
  }
 ],
 "metadata": {
  "kernelspec": {
   "display_name": "Python 3 (ipykernel)",
   "language": "python",
   "name": "python3"
  },
  "language_info": {
   "codemirror_mode": {
    "name": "ipython",
    "version": 3
   },
   "file_extension": ".py",
   "mimetype": "text/x-python",
   "name": "python",
   "nbconvert_exporter": "python",
   "pygments_lexer": "ipython3",
   "version": "3.8.13"
  },
  "pycharm": {
   "stem_cell": {
    "cell_type": "raw",
    "metadata": {
     "collapsed": false
    },
    "source": []
   }
  }
 },
 "nbformat": 4,
 "nbformat_minor": 4
}
